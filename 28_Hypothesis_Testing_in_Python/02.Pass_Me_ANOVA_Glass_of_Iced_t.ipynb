{
 "cells": [
  {
   "cell_type": "code",
   "execution_count": 1,
   "metadata": {},
   "outputs": [],
   "source": [
    "import pandas as pd\n",
    "import numpy as np\n",
    "import matplotlib.pyplot as plt\n",
    "from scipy.stats import norm"
   ]
  },
  {
   "cell_type": "code",
   "execution_count": 2,
   "metadata": {},
   "outputs": [
    {
     "data": {
      "text/html": [
       "<div>\n",
       "<style scoped>\n",
       "    .dataframe tbody tr th:only-of-type {\n",
       "        vertical-align: middle;\n",
       "    }\n",
       "\n",
       "    .dataframe tbody tr th {\n",
       "        vertical-align: top;\n",
       "    }\n",
       "\n",
       "    .dataframe thead th {\n",
       "        text-align: right;\n",
       "    }\n",
       "</style>\n",
       "<table border=\"1\" class=\"dataframe\">\n",
       "  <thead>\n",
       "    <tr style=\"text-align: right;\">\n",
       "      <th></th>\n",
       "      <th>respondent</th>\n",
       "      <th>main_branch</th>\n",
       "      <th>hobbyist</th>\n",
       "      <th>age</th>\n",
       "      <th>age_1st_code</th>\n",
       "      <th>age_first_code_cut</th>\n",
       "      <th>comp_freq</th>\n",
       "      <th>comp_total</th>\n",
       "      <th>converted_comp</th>\n",
       "      <th>country</th>\n",
       "      <th>...</th>\n",
       "      <th>survey_length</th>\n",
       "      <th>trans</th>\n",
       "      <th>undergrad_major</th>\n",
       "      <th>webframe_desire_next_year</th>\n",
       "      <th>webframe_worked_with</th>\n",
       "      <th>welcome_change</th>\n",
       "      <th>work_week_hrs</th>\n",
       "      <th>years_code</th>\n",
       "      <th>years_code_pro</th>\n",
       "      <th>age_cat</th>\n",
       "    </tr>\n",
       "  </thead>\n",
       "  <tbody>\n",
       "    <tr>\n",
       "      <th>0</th>\n",
       "      <td>36.0</td>\n",
       "      <td>I am not primarily a developer, but I write co...</td>\n",
       "      <td>Yes</td>\n",
       "      <td>34.0</td>\n",
       "      <td>30.0</td>\n",
       "      <td>adult</td>\n",
       "      <td>Yearly</td>\n",
       "      <td>60000.0</td>\n",
       "      <td>77556.0</td>\n",
       "      <td>United Kingdom</td>\n",
       "      <td>...</td>\n",
       "      <td>Appropriate in length</td>\n",
       "      <td>No</td>\n",
       "      <td>Computer science, computer engineering, or sof...</td>\n",
       "      <td>Express;React.js</td>\n",
       "      <td>Express;React.js</td>\n",
       "      <td>Just as welcome now as I felt last year</td>\n",
       "      <td>40.0</td>\n",
       "      <td>4.0</td>\n",
       "      <td>3.0</td>\n",
       "      <td>At least 30</td>\n",
       "    </tr>\n",
       "    <tr>\n",
       "      <th>1</th>\n",
       "      <td>47.0</td>\n",
       "      <td>I am a developer by profession</td>\n",
       "      <td>Yes</td>\n",
       "      <td>53.0</td>\n",
       "      <td>10.0</td>\n",
       "      <td>child</td>\n",
       "      <td>Yearly</td>\n",
       "      <td>58000.0</td>\n",
       "      <td>74970.0</td>\n",
       "      <td>United Kingdom</td>\n",
       "      <td>...</td>\n",
       "      <td>Appropriate in length</td>\n",
       "      <td>No</td>\n",
       "      <td>A natural science (such as biology, chemistry,...</td>\n",
       "      <td>Flask;Spring</td>\n",
       "      <td>Flask;Spring</td>\n",
       "      <td>Just as welcome now as I felt last year</td>\n",
       "      <td>40.0</td>\n",
       "      <td>43.0</td>\n",
       "      <td>28.0</td>\n",
       "      <td>At least 30</td>\n",
       "    </tr>\n",
       "    <tr>\n",
       "      <th>2</th>\n",
       "      <td>69.0</td>\n",
       "      <td>I am a developer by profession</td>\n",
       "      <td>Yes</td>\n",
       "      <td>25.0</td>\n",
       "      <td>12.0</td>\n",
       "      <td>child</td>\n",
       "      <td>Yearly</td>\n",
       "      <td>550000.0</td>\n",
       "      <td>594539.0</td>\n",
       "      <td>France</td>\n",
       "      <td>...</td>\n",
       "      <td>Too short</td>\n",
       "      <td>No</td>\n",
       "      <td>Computer science, computer engineering, or sof...</td>\n",
       "      <td>Django;Flask</td>\n",
       "      <td>Django;Flask</td>\n",
       "      <td>Just as welcome now as I felt last year</td>\n",
       "      <td>40.0</td>\n",
       "      <td>13.0</td>\n",
       "      <td>3.0</td>\n",
       "      <td>Under 30</td>\n",
       "    </tr>\n",
       "    <tr>\n",
       "      <th>3</th>\n",
       "      <td>125.0</td>\n",
       "      <td>I am not primarily a developer, but I write co...</td>\n",
       "      <td>Yes</td>\n",
       "      <td>41.0</td>\n",
       "      <td>30.0</td>\n",
       "      <td>adult</td>\n",
       "      <td>Monthly</td>\n",
       "      <td>200000.0</td>\n",
       "      <td>2000000.0</td>\n",
       "      <td>United States</td>\n",
       "      <td>...</td>\n",
       "      <td>Appropriate in length</td>\n",
       "      <td>No</td>\n",
       "      <td>None</td>\n",
       "      <td>None</td>\n",
       "      <td>None</td>\n",
       "      <td>Just as welcome now as I felt last year</td>\n",
       "      <td>40.0</td>\n",
       "      <td>11.0</td>\n",
       "      <td>11.0</td>\n",
       "      <td>At least 30</td>\n",
       "    </tr>\n",
       "    <tr>\n",
       "      <th>4</th>\n",
       "      <td>147.0</td>\n",
       "      <td>I am not primarily a developer, but I write co...</td>\n",
       "      <td>No</td>\n",
       "      <td>28.0</td>\n",
       "      <td>15.0</td>\n",
       "      <td>adult</td>\n",
       "      <td>Yearly</td>\n",
       "      <td>50000.0</td>\n",
       "      <td>37816.0</td>\n",
       "      <td>Canada</td>\n",
       "      <td>...</td>\n",
       "      <td>Appropriate in length</td>\n",
       "      <td>No</td>\n",
       "      <td>Another engineering discipline (such as civil,...</td>\n",
       "      <td>None</td>\n",
       "      <td>Express;Flask</td>\n",
       "      <td>Just as welcome now as I felt last year</td>\n",
       "      <td>40.0</td>\n",
       "      <td>5.0</td>\n",
       "      <td>3.0</td>\n",
       "      <td>Under 30</td>\n",
       "    </tr>\n",
       "  </tbody>\n",
       "</table>\n",
       "<p>5 rows × 63 columns</p>\n",
       "</div>"
      ],
      "text/plain": [
       "   respondent                                        main_branch hobbyist  \\\n",
       "0        36.0  I am not primarily a developer, but I write co...      Yes   \n",
       "1        47.0                     I am a developer by profession      Yes   \n",
       "2        69.0                     I am a developer by profession      Yes   \n",
       "3       125.0  I am not primarily a developer, but I write co...      Yes   \n",
       "4       147.0  I am not primarily a developer, but I write co...       No   \n",
       "\n",
       "    age  age_1st_code age_first_code_cut comp_freq  comp_total  \\\n",
       "0  34.0          30.0              adult    Yearly     60000.0   \n",
       "1  53.0          10.0              child    Yearly     58000.0   \n",
       "2  25.0          12.0              child    Yearly    550000.0   \n",
       "3  41.0          30.0              adult   Monthly    200000.0   \n",
       "4  28.0          15.0              adult    Yearly     50000.0   \n",
       "\n",
       "   converted_comp         country  ...          survey_length trans  \\\n",
       "0         77556.0  United Kingdom  ...  Appropriate in length    No   \n",
       "1         74970.0  United Kingdom  ...  Appropriate in length    No   \n",
       "2        594539.0          France  ...              Too short    No   \n",
       "3       2000000.0   United States  ...  Appropriate in length    No   \n",
       "4         37816.0          Canada  ...  Appropriate in length    No   \n",
       "\n",
       "                                     undergrad_major  \\\n",
       "0  Computer science, computer engineering, or sof...   \n",
       "1  A natural science (such as biology, chemistry,...   \n",
       "2  Computer science, computer engineering, or sof...   \n",
       "3                                               None   \n",
       "4  Another engineering discipline (such as civil,...   \n",
       "\n",
       "  webframe_desire_next_year webframe_worked_with  \\\n",
       "0          Express;React.js     Express;React.js   \n",
       "1              Flask;Spring         Flask;Spring   \n",
       "2              Django;Flask         Django;Flask   \n",
       "3                      None                 None   \n",
       "4                      None        Express;Flask   \n",
       "\n",
       "                            welcome_change work_week_hrs years_code  \\\n",
       "0  Just as welcome now as I felt last year          40.0        4.0   \n",
       "1  Just as welcome now as I felt last year          40.0       43.0   \n",
       "2  Just as welcome now as I felt last year          40.0       13.0   \n",
       "3  Just as welcome now as I felt last year          40.0       11.0   \n",
       "4  Just as welcome now as I felt last year          40.0        5.0   \n",
       "\n",
       "  years_code_pro      age_cat  \n",
       "0            3.0  At least 30  \n",
       "1           28.0  At least 30  \n",
       "2            3.0     Under 30  \n",
       "3           11.0  At least 30  \n",
       "4            3.0     Under 30  \n",
       "\n",
       "[5 rows x 63 columns]"
      ]
     },
     "execution_count": 2,
     "metadata": {},
     "output_type": "execute_result"
    }
   ],
   "source": [
    "stack_overflow = pd.read_feather(r\"C:\\Users\\vnlvi\\Downloads\\Projetos\\DataCamp\\Estudos_Python_Ciencia_de_Dados\\28_Hypothesis_Testing_in_Python\\datasets\\stack_overflow.feather\")\n",
    "stack_overflow.head()"
   ]
  },
  {
   "cell_type": "markdown",
   "metadata": {},
   "source": [
    "### Hypotheses\n",
    "H0 : The mean compensation (in USD) is the same for those that coded first as a child and\n",
    "those that coded first as an adult.\n",
    "\n",
    "- H0 : μ(child) = μ(adult)\n",
    "- H0 : μ(child) − μ(adult) = 0\n",
    "\n",
    "Ha : The mean compensation (in USD) is greater for those that coded first as a child\n",
    "compared to those that coded first as an adult.\n",
    "\n",
    "- Ha : μ(child) > μ(adult)\n",
    "- Ha : μ(child) − μ(adult) > 0"
   ]
  },
  {
   "cell_type": "markdown",
   "metadata": {},
   "source": [
    "### Calculating groupwise summary statistics"
   ]
  },
  {
   "cell_type": "code",
   "execution_count": 3,
   "metadata": {},
   "outputs": [
    {
     "data": {
      "text/plain": [
       "age_first_code_cut\n",
       "adult    111313.311047\n",
       "child    132419.570621\n",
       "Name: converted_comp, dtype: float64"
      ]
     },
     "execution_count": 3,
     "metadata": {},
     "output_type": "execute_result"
    }
   ],
   "source": [
    "stack_overflow.groupby('age_first_code_cut')['converted_comp'].mean()"
   ]
  },
  {
   "cell_type": "markdown",
   "metadata": {},
   "source": [
    "### Calculations assuming the null hypothesis is true"
   ]
  },
  {
   "cell_type": "code",
   "execution_count": 4,
   "metadata": {},
   "outputs": [],
   "source": [
    "xbar = stack_overflow.groupby('age_first_code_cut')['converted_comp'].mean()\n",
    "s = stack_overflow.groupby('age_first_code_cut')['converted_comp'].std()\n",
    "n = stack_overflow.groupby('age_first_code_cut')['converted_comp'].count()"
   ]
  },
  {
   "cell_type": "code",
   "execution_count": 5,
   "metadata": {},
   "outputs": [
    {
     "data": {
      "text/plain": [
       "255585.2401149758"
      ]
     },
     "execution_count": 5,
     "metadata": {},
     "output_type": "execute_result"
    }
   ],
   "source": [
    "s['child']"
   ]
  },
  {
   "cell_type": "code",
   "execution_count": 6,
   "metadata": {},
   "outputs": [
    {
     "data": {
      "text/plain": [
       "1.8699313316221844"
      ]
     },
     "execution_count": 6,
     "metadata": {},
     "output_type": "execute_result"
    }
   ],
   "source": [
    "#Calculating the test statistic\n",
    "\n",
    "numerator = xbar['child'] - xbar['adult']\n",
    "denominator = np.sqrt(s['child'] ** 2 / n['child'] + s['adult'] ** 2 / n['adult'])\n",
    "t_stat = numerator / denominator\n",
    "t_stat"
   ]
  },
  {
   "cell_type": "markdown",
   "metadata": {},
   "source": [
    "### Hypothesis testing workflow\n",
    "\n",
    "1. Identify population parameter that is hypothesized about.\n",
    "2. Specify the null and alternative hypotheses.\n",
    "3. Determine (standardized) test statistic and corresponding null distribuition.\n",
    "4. Conduct hypothesis test in Python.\n",
    "5. Measure evidence against the null hypothesis.\n",
    "6. Make a decision comparing evidence to significance level.\n",
    "7. Interpret the results in the context of the original problem."
   ]
  },
  {
   "cell_type": "markdown",
   "metadata": {},
   "source": [
    "### Two sample mean test statistic\n",
    "The hypothesis test for determining if there is a difference between the means of two populations uses a different type of test statistic to the z-scores you saw in Chapter 1. It's called \"t\".\n",
    "\n",
    "While trying to determine why some shipments are late, you may wonder if the weight of the shipments that were on time is less than the weight of the shipments that were late. "
   ]
  },
  {
   "cell_type": "code",
   "execution_count": 7,
   "metadata": {},
   "outputs": [
    {
     "data": {
      "text/html": [
       "<div>\n",
       "<style scoped>\n",
       "    .dataframe tbody tr th:only-of-type {\n",
       "        vertical-align: middle;\n",
       "    }\n",
       "\n",
       "    .dataframe tbody tr th {\n",
       "        vertical-align: top;\n",
       "    }\n",
       "\n",
       "    .dataframe thead th {\n",
       "        text-align: right;\n",
       "    }\n",
       "</style>\n",
       "<table border=\"1\" class=\"dataframe\">\n",
       "  <thead>\n",
       "    <tr style=\"text-align: right;\">\n",
       "      <th></th>\n",
       "      <th>id</th>\n",
       "      <th>country</th>\n",
       "      <th>managed_by</th>\n",
       "      <th>fulfill_via</th>\n",
       "      <th>vendor_inco_term</th>\n",
       "      <th>shipment_mode</th>\n",
       "      <th>late_delivery</th>\n",
       "      <th>late</th>\n",
       "      <th>product_group</th>\n",
       "      <th>sub_classification</th>\n",
       "      <th>...</th>\n",
       "      <th>line_item_quantity</th>\n",
       "      <th>line_item_value</th>\n",
       "      <th>pack_price</th>\n",
       "      <th>unit_price</th>\n",
       "      <th>manufacturing_site</th>\n",
       "      <th>first_line_designation</th>\n",
       "      <th>weight_kilograms</th>\n",
       "      <th>freight_cost_usd</th>\n",
       "      <th>freight_cost_groups</th>\n",
       "      <th>line_item_insurance_usd</th>\n",
       "    </tr>\n",
       "  </thead>\n",
       "  <tbody>\n",
       "    <tr>\n",
       "      <th>0</th>\n",
       "      <td>36203.0</td>\n",
       "      <td>Nigeria</td>\n",
       "      <td>PMO - US</td>\n",
       "      <td>Direct Drop</td>\n",
       "      <td>EXW</td>\n",
       "      <td>Air</td>\n",
       "      <td>1.0</td>\n",
       "      <td>Yes</td>\n",
       "      <td>HRDT</td>\n",
       "      <td>HIV test</td>\n",
       "      <td>...</td>\n",
       "      <td>2996.0</td>\n",
       "      <td>266644.00</td>\n",
       "      <td>89.00</td>\n",
       "      <td>0.89</td>\n",
       "      <td>Alere Medical Co., Ltd.</td>\n",
       "      <td>Yes</td>\n",
       "      <td>1426.0</td>\n",
       "      <td>33279.83</td>\n",
       "      <td>expensive</td>\n",
       "      <td>373.83</td>\n",
       "    </tr>\n",
       "    <tr>\n",
       "      <th>1</th>\n",
       "      <td>30998.0</td>\n",
       "      <td>Botswana</td>\n",
       "      <td>PMO - US</td>\n",
       "      <td>Direct Drop</td>\n",
       "      <td>EXW</td>\n",
       "      <td>Air</td>\n",
       "      <td>0.0</td>\n",
       "      <td>No</td>\n",
       "      <td>HRDT</td>\n",
       "      <td>HIV test</td>\n",
       "      <td>...</td>\n",
       "      <td>25.0</td>\n",
       "      <td>800.00</td>\n",
       "      <td>32.00</td>\n",
       "      <td>1.60</td>\n",
       "      <td>Trinity Biotech, Plc</td>\n",
       "      <td>Yes</td>\n",
       "      <td>10.0</td>\n",
       "      <td>559.89</td>\n",
       "      <td>reasonable</td>\n",
       "      <td>1.72</td>\n",
       "    </tr>\n",
       "    <tr>\n",
       "      <th>2</th>\n",
       "      <td>69871.0</td>\n",
       "      <td>Vietnam</td>\n",
       "      <td>PMO - US</td>\n",
       "      <td>Direct Drop</td>\n",
       "      <td>EXW</td>\n",
       "      <td>Air</td>\n",
       "      <td>0.0</td>\n",
       "      <td>No</td>\n",
       "      <td>ARV</td>\n",
       "      <td>Adult</td>\n",
       "      <td>...</td>\n",
       "      <td>22925.0</td>\n",
       "      <td>110040.00</td>\n",
       "      <td>4.80</td>\n",
       "      <td>0.08</td>\n",
       "      <td>Hetero Unit III Hyderabad IN</td>\n",
       "      <td>Yes</td>\n",
       "      <td>3723.0</td>\n",
       "      <td>19056.13</td>\n",
       "      <td>expensive</td>\n",
       "      <td>181.57</td>\n",
       "    </tr>\n",
       "    <tr>\n",
       "      <th>3</th>\n",
       "      <td>17648.0</td>\n",
       "      <td>South Africa</td>\n",
       "      <td>PMO - US</td>\n",
       "      <td>Direct Drop</td>\n",
       "      <td>DDP</td>\n",
       "      <td>Ocean</td>\n",
       "      <td>0.0</td>\n",
       "      <td>No</td>\n",
       "      <td>ARV</td>\n",
       "      <td>Adult</td>\n",
       "      <td>...</td>\n",
       "      <td>152535.0</td>\n",
       "      <td>361507.95</td>\n",
       "      <td>2.37</td>\n",
       "      <td>0.04</td>\n",
       "      <td>Aurobindo Unit III, India</td>\n",
       "      <td>Yes</td>\n",
       "      <td>7698.0</td>\n",
       "      <td>11372.23</td>\n",
       "      <td>expensive</td>\n",
       "      <td>779.41</td>\n",
       "    </tr>\n",
       "    <tr>\n",
       "      <th>4</th>\n",
       "      <td>5647.0</td>\n",
       "      <td>Uganda</td>\n",
       "      <td>PMO - US</td>\n",
       "      <td>Direct Drop</td>\n",
       "      <td>EXW</td>\n",
       "      <td>Air</td>\n",
       "      <td>0.0</td>\n",
       "      <td>No</td>\n",
       "      <td>HRDT</td>\n",
       "      <td>HIV test - Ancillary</td>\n",
       "      <td>...</td>\n",
       "      <td>850.0</td>\n",
       "      <td>8.50</td>\n",
       "      <td>0.01</td>\n",
       "      <td>0.00</td>\n",
       "      <td>Inverness Japan</td>\n",
       "      <td>Yes</td>\n",
       "      <td>56.0</td>\n",
       "      <td>360.00</td>\n",
       "      <td>reasonable</td>\n",
       "      <td>0.01</td>\n",
       "    </tr>\n",
       "  </tbody>\n",
       "</table>\n",
       "<p>5 rows × 27 columns</p>\n",
       "</div>"
      ],
      "text/plain": [
       "        id       country managed_by  fulfill_via vendor_inco_term  \\\n",
       "0  36203.0       Nigeria   PMO - US  Direct Drop              EXW   \n",
       "1  30998.0      Botswana   PMO - US  Direct Drop              EXW   \n",
       "2  69871.0       Vietnam   PMO - US  Direct Drop              EXW   \n",
       "3  17648.0  South Africa   PMO - US  Direct Drop              DDP   \n",
       "4   5647.0        Uganda   PMO - US  Direct Drop              EXW   \n",
       "\n",
       "  shipment_mode  late_delivery late product_group    sub_classification  ...  \\\n",
       "0           Air            1.0  Yes          HRDT              HIV test  ...   \n",
       "1           Air            0.0   No          HRDT              HIV test  ...   \n",
       "2           Air            0.0   No           ARV                 Adult  ...   \n",
       "3         Ocean            0.0   No           ARV                 Adult  ...   \n",
       "4           Air            0.0   No          HRDT  HIV test - Ancillary  ...   \n",
       "\n",
       "  line_item_quantity line_item_value pack_price unit_price  \\\n",
       "0             2996.0       266644.00      89.00       0.89   \n",
       "1               25.0          800.00      32.00       1.60   \n",
       "2            22925.0       110040.00       4.80       0.08   \n",
       "3           152535.0       361507.95       2.37       0.04   \n",
       "4              850.0            8.50       0.01       0.00   \n",
       "\n",
       "             manufacturing_site first_line_designation  weight_kilograms  \\\n",
       "0       Alere Medical Co., Ltd.                    Yes            1426.0   \n",
       "1          Trinity Biotech, Plc                    Yes              10.0   \n",
       "2  Hetero Unit III Hyderabad IN                    Yes            3723.0   \n",
       "3     Aurobindo Unit III, India                    Yes            7698.0   \n",
       "4               Inverness Japan                    Yes              56.0   \n",
       "\n",
       "   freight_cost_usd  freight_cost_groups  line_item_insurance_usd  \n",
       "0          33279.83            expensive                   373.83  \n",
       "1            559.89           reasonable                     1.72  \n",
       "2          19056.13            expensive                   181.57  \n",
       "3          11372.23            expensive                   779.41  \n",
       "4            360.00           reasonable                     0.01  \n",
       "\n",
       "[5 rows x 27 columns]"
      ]
     },
     "execution_count": 7,
     "metadata": {},
     "output_type": "execute_result"
    }
   ],
   "source": [
    "late_shipments = pd.read_feather(r\"C:\\Users\\vnlvi\\Downloads\\Projetos\\DataCamp\\Estudos_Python_Ciencia_de_Dados\\28_Hypothesis_Testing_in_Python\\datasets\\late_shipments.feather\")\n",
    "late_shipments.head()"
   ]
  },
  {
   "cell_type": "code",
   "execution_count": 8,
   "metadata": {},
   "outputs": [],
   "source": [
    "xbar = late_shipments.groupby('late')['weight_kilograms'].mean()\n",
    "\n",
    "xbar_yes = xbar['Yes']\n",
    "xbar_no = xbar['No']\n",
    "\n",
    "s = late_shipments.groupby('late')['weight_kilograms'].std()\n",
    "\n",
    "s_yes = s['Yes']\n",
    "s_no = s['No']\n",
    "\n",
    "n = late_shipments.groupby('late')['weight_kilograms'].count()\n",
    "\n",
    "n_yes = n['Yes']\n",
    "n_no = n['No']"
   ]
  },
  {
   "cell_type": "code",
   "execution_count": 9,
   "metadata": {},
   "outputs": [
    {
     "name": "stdout",
     "output_type": "stream",
     "text": [
      "-2.3936661778766433\n"
     ]
    }
   ],
   "source": [
    "# Calculate the numerator of the test statistic\n",
    "numerator = xbar_no - xbar_yes\n",
    "\n",
    "# Calculate the denominator of the test statistic\n",
    "denominator = np.sqrt(s_no ** 2 / n_no + s_yes ** 2 / n_yes)\n",
    "\n",
    "# Calculate the test statistic\n",
    "t_stat = numerator / denominator\n",
    "\n",
    "# Print the test statistic\n",
    "print(t_stat)"
   ]
  },
  {
   "cell_type": "markdown",
   "metadata": {},
   "source": [
    "### Time for  t\n",
    "\n",
    "#### Hypotheses\n",
    "H0 : The mean compensation (in USD) is the same for those that coded rst as a child and\n",
    "those that coded rst as an \n",
    "\n",
    "Ha : The mean compensation (in USD) is greater for those that coded rst as a child\n",
    "compared to those that coded rst as an adult\n",
    "\n",
    "Use a **right-tailed test**\n",
    "\n",
    "\n",
    "#### Significance level\n",
    "α = 0.1\n",
    "If p ≤ α then reject H0.\n",
    "\n",
    "    z-statistic: needed when using one sample statistic to estimate a population parameter\n",
    "    t-statistic: needed when using multiple sample statistics to estimate a population parameter"
   ]
  },
  {
   "cell_type": "code",
   "execution_count": 10,
   "metadata": {},
   "outputs": [
    {
     "data": {
      "text/plain": [
       "1.8699313316221844"
      ]
     },
     "execution_count": 10,
     "metadata": {},
     "output_type": "execute_result"
    }
   ],
   "source": [
    "#Calculating p-values: to means from different groups\n",
    "\n",
    "xbar = stack_overflow.groupby('age_first_code_cut')['converted_comp'].mean()\n",
    "s = stack_overflow.groupby('age_first_code_cut')['converted_comp'].std()\n",
    "n = stack_overflow.groupby('age_first_code_cut')['converted_comp'].count()\n",
    "\n",
    "xbar_child = xbar['child']\n",
    "xbar_adult = xbar['adult']\n",
    "\n",
    "s_child = s['child']\n",
    "s_adult = s['adult']\n",
    "\n",
    "\n",
    "n_child = n['child']\n",
    "n_adult = n['adult']\n",
    "\n",
    "#Calculating the test statistic\n",
    "\n",
    "numerator = xbar_child - xbar_adult\n",
    "denominator = np.sqrt(s_child ** 2 / n_child + s_adult ** 2 / n_adult)\n",
    "t_stat = numerator / denominator\n",
    "t_stat"
   ]
  },
  {
   "cell_type": "code",
   "execution_count": 11,
   "metadata": {},
   "outputs": [
    {
     "data": {
      "text/plain": [
       "2259"
      ]
     },
     "execution_count": 11,
     "metadata": {},
     "output_type": "execute_result"
    }
   ],
   "source": [
    "# o -2 é pq conhecemos duas estatísticas amostrais, as médias para cada grupo\n",
    "degrees_of_freedom = n_child + n_adult - 2\n",
    "degrees_of_freedom"
   ]
  },
  {
   "cell_type": "code",
   "execution_count": 12,
   "metadata": {},
   "outputs": [
    {
     "data": {
      "text/plain": [
       "0.030811302165157595"
      ]
     },
     "execution_count": 12,
     "metadata": {},
     "output_type": "execute_result"
    }
   ],
   "source": [
    "from scipy.stats import t\n",
    "\n",
    "p_value = 1 - t.cdf(t_stat, df=degrees_of_freedom)\n",
    "p_value"
   ]
  },
  {
   "cell_type": "markdown",
   "metadata": {},
   "source": [
    "Evidence that Stack Overow data scientists who started coding as a child earn more"
   ]
  },
  {
   "cell_type": "markdown",
   "metadata": {},
   "source": [
    "Using a sample standard deviation to estimate the standard error is computationally easier than using bootstrapping. However, to correct for the approximation, you need to use a t-distribution when transforming the test statistic to get the p-value."
   ]
  },
  {
   "cell_type": "markdown",
   "metadata": {},
   "source": [
    "### From t to p\n",
    "Previously, you calculated the test statistic for the two-sample problem of whether the mean weight of shipments is smaller for shipments that weren't late (late == \"No\") compared to shipments that were late (late == \"Yes\"). In order to make decisions about it, you need to transform the test statistic with a cumulative distribution function to get a p-value.\n",
    "\n",
    "Recall the hypotheses:\n",
    "\n",
    "H0: The mean weight of shipments that weren't late is the same as the mean weight of shipments that were late.\n",
    "\n",
    "Ha: The mean weight of shipments that weren't late is less than the mean weight of shipments that were late.\n",
    "\n",
    "The test statistic, t_stat, is available, as are the samples sizes for each group, n_no and n_yes. Use a significance level of alpha = 0.05.\n",
    "\n",
    "It's a Left-tailed test."
   ]
  },
  {
   "cell_type": "code",
   "execution_count": 13,
   "metadata": {},
   "outputs": [
    {
     "name": "stdout",
     "output_type": "stream",
     "text": [
      "0.008432382146249523\n"
     ]
    }
   ],
   "source": [
    "xbar = late_shipments.groupby('late')['weight_kilograms'].mean()\n",
    "\n",
    "xbar_yes = xbar['Yes']\n",
    "xbar_no = xbar['No']\n",
    "\n",
    "s = late_shipments.groupby('late')['weight_kilograms'].std()\n",
    "\n",
    "s_yes = s['Yes']\n",
    "s_no = s['No']\n",
    "\n",
    "n = late_shipments.groupby('late')['weight_kilograms'].count()\n",
    "\n",
    "n_yes = n['Yes']\n",
    "n_no = n['No']\n",
    "\n",
    "# Calculate the numerator of the test statistic\n",
    "numerator = xbar_no - xbar_yes\n",
    "\n",
    "# Calculate the denominator of the test statistic\n",
    "denominator = np.sqrt(s_no ** 2 / n_no + s_yes ** 2 / n_yes)\n",
    "\n",
    "# Calculate the test statistic\n",
    "t_stat = numerator / denominator\n",
    "\n",
    "# Calculate the degrees of freedom\n",
    "degrees_of_freedom = n_yes + n_no - 2\n",
    "\n",
    "# Calculate the p-value from the test stat\n",
    "p_value = t.cdf(t_stat, df=degrees_of_freedom)\n",
    "\n",
    "alpha = 0.05\n",
    "\n",
    "# Print the p_value\n",
    "print(p_value)"
   ]
  },
  {
   "cell_type": "code",
   "execution_count": 14,
   "metadata": {},
   "outputs": [
    {
     "data": {
      "text/plain": [
       "True"
      ]
     },
     "execution_count": 14,
     "metadata": {},
     "output_type": "execute_result"
    }
   ],
   "source": [
    "p_value <= alpha"
   ]
  },
  {
   "cell_type": "markdown",
   "metadata": {},
   "source": [
    "Reject the null hypothesis."
   ]
  },
  {
   "cell_type": "markdown",
   "metadata": {},
   "source": [
    "### Pairing is caring"
   ]
  },
  {
   "cell_type": "code",
   "execution_count": 15,
   "metadata": {},
   "outputs": [
    {
     "data": {
      "text/html": [
       "<div>\n",
       "<style scoped>\n",
       "    .dataframe tbody tr th:only-of-type {\n",
       "        vertical-align: middle;\n",
       "    }\n",
       "\n",
       "    .dataframe tbody tr th {\n",
       "        vertical-align: top;\n",
       "    }\n",
       "\n",
       "    .dataframe thead th {\n",
       "        text-align: right;\n",
       "    }\n",
       "</style>\n",
       "<table border=\"1\" class=\"dataframe\">\n",
       "  <thead>\n",
       "    <tr style=\"text-align: right;\">\n",
       "      <th></th>\n",
       "      <th>state</th>\n",
       "      <th>county</th>\n",
       "      <th>repub_percent_08</th>\n",
       "      <th>repub_percent_12</th>\n",
       "    </tr>\n",
       "  </thead>\n",
       "  <tbody>\n",
       "    <tr>\n",
       "      <th>0</th>\n",
       "      <td>Alabama</td>\n",
       "      <td>Hale</td>\n",
       "      <td>38.957877</td>\n",
       "      <td>37.139882</td>\n",
       "    </tr>\n",
       "    <tr>\n",
       "      <th>1</th>\n",
       "      <td>Arkansas</td>\n",
       "      <td>Nevada</td>\n",
       "      <td>56.726272</td>\n",
       "      <td>58.983452</td>\n",
       "    </tr>\n",
       "    <tr>\n",
       "      <th>2</th>\n",
       "      <td>California</td>\n",
       "      <td>Lake</td>\n",
       "      <td>38.896719</td>\n",
       "      <td>39.331367</td>\n",
       "    </tr>\n",
       "    <tr>\n",
       "      <th>3</th>\n",
       "      <td>California</td>\n",
       "      <td>Ventura</td>\n",
       "      <td>42.923190</td>\n",
       "      <td>45.250693</td>\n",
       "    </tr>\n",
       "    <tr>\n",
       "      <th>4</th>\n",
       "      <td>Colorado</td>\n",
       "      <td>Lincoln</td>\n",
       "      <td>74.522569</td>\n",
       "      <td>73.764757</td>\n",
       "    </tr>\n",
       "  </tbody>\n",
       "</table>\n",
       "</div>"
      ],
      "text/plain": [
       "        state   county  repub_percent_08  repub_percent_12\n",
       "0     Alabama     Hale         38.957877         37.139882\n",
       "1    Arkansas   Nevada         56.726272         58.983452\n",
       "2  California     Lake         38.896719         39.331367\n",
       "3  California  Ventura         42.923190         45.250693\n",
       "4    Colorado  Lincoln         74.522569         73.764757"
      ]
     },
     "execution_count": 15,
     "metadata": {},
     "output_type": "execute_result"
    }
   ],
   "source": [
    "repub_votes_potus_08_12 = pd.read_feather(r\"C:\\Users\\vnlvi\\Downloads\\Projetos\\DataCamp\\Estudos_Python_Ciencia_de_Dados\\28_Hypothesis_Testing_in_Python\\datasets\\repub_votes_potus_08_12.feather\")\n",
    "repub_votes_potus_08_12.head()\n",
    "#each row represents county-level votes in a presidential election."
   ]
  },
  {
   "cell_type": "markdown",
   "metadata": {},
   "source": [
    "#### Hypotheses\n",
    "\n",
    "Question: Was the percentage of Republican candidate votes lower in 2008 than 2012?\n",
    "\n",
    "- H0 : μ2008 − μ2012 = 0\n",
    "- Ha : μ2008 − μ2012 < 0\n",
    "\n",
    "Set α = 0.05 signicance level."
   ]
  },
  {
   "cell_type": "code",
   "execution_count": 16,
   "metadata": {},
   "outputs": [
    {
     "data": {
      "text/plain": [
       "<AxesSubplot:>"
      ]
     },
     "execution_count": 16,
     "metadata": {},
     "output_type": "execute_result"
    },
    {
     "data": {
      "image/png": "[encoded data removed]",
      "text/plain": [
       "<Figure size 432x288 with 1 Axes>"
      ]
     },
     "metadata": {
      "needs_background": "light"
     },
     "output_type": "display_data"
    }
   ],
   "source": [
    "#From two samples to one\n",
    "sample_data = repub_votes_potus_08_12\n",
    "sample_data['diff'] = sample_data['repub_percent_08'] - sample_data['repub_percent_12']\n",
    "\n",
    "sample_data['diff'].hist(bins=20)"
   ]
  },
  {
   "cell_type": "code",
   "execution_count": 17,
   "metadata": {},
   "outputs": [
    {
     "data": {
      "text/plain": [
       "-2.8771090412429454"
      ]
     },
     "execution_count": 17,
     "metadata": {},
     "output_type": "execute_result"
    }
   ],
   "source": [
    "#Calculate sample statistics of the difference\n",
    "\n",
    "xbar_diff = sample_data['diff'].mean()\n",
    "xbar_diff"
   ]
  },
  {
   "cell_type": "markdown",
   "metadata": {},
   "source": [
    "### Revised hypotheses\n",
    "\n",
    "#### New hypotheses:\n",
    "\n",
    "- H0 : μdiff = 0\n",
    "- Ha : μdiff < 0"
   ]
  },
  {
   "cell_type": "code",
   "execution_count": 18,
   "metadata": {},
   "outputs": [
    {
     "data": {
      "text/plain": [
       "100"
      ]
     },
     "execution_count": 18,
     "metadata": {},
     "output_type": "execute_result"
    }
   ],
   "source": [
    "#Calculating the p-value\n",
    "\n",
    "n_diff = len(sample_data)\n",
    "n_diff"
   ]
  },
  {
   "cell_type": "code",
   "execution_count": 19,
   "metadata": {},
   "outputs": [
    {
     "data": {
      "text/plain": [
       "-5.601043121928492"
      ]
     },
     "execution_count": 19,
     "metadata": {},
     "output_type": "execute_result"
    }
   ],
   "source": [
    "s_diff =sample_data['diff'].std()\n",
    "t_stat = (xbar_diff-0)/np.sqrt(s_diff**2/n_diff)\n",
    "t_stat"
   ]
  },
  {
   "cell_type": "code",
   "execution_count": 20,
   "metadata": {},
   "outputs": [],
   "source": [
    "degrees_of_freedom = n_diff - 1"
   ]
  },
  {
   "cell_type": "code",
   "execution_count": 21,
   "metadata": {},
   "outputs": [
    {
     "data": {
      "text/plain": [
       "9.572537285272304e-08"
      ]
     },
     "execution_count": 21,
     "metadata": {},
     "output_type": "execute_result"
    }
   ],
   "source": [
    "p_value = t.cdf(t_stat,df=degrees_of_freedom)\n",
    "p_value"
   ]
  },
  {
   "cell_type": "markdown",
   "metadata": {},
   "source": [
    "!pip install pingouin"
   ]
  },
  {
   "cell_type": "code",
   "execution_count": 23,
   "metadata": {},
   "outputs": [
    {
     "data": {
      "text/html": [
       "<div>\n",
       "<style scoped>\n",
       "    .dataframe tbody tr th:only-of-type {\n",
       "        vertical-align: middle;\n",
       "    }\n",
       "\n",
       "    .dataframe tbody tr th {\n",
       "        vertical-align: top;\n",
       "    }\n",
       "\n",
       "    .dataframe thead th {\n",
       "        text-align: right;\n",
       "    }\n",
       "</style>\n",
       "<table border=\"1\" class=\"dataframe\">\n",
       "  <thead>\n",
       "    <tr style=\"text-align: right;\">\n",
       "      <th></th>\n",
       "      <th>T</th>\n",
       "      <th>dof</th>\n",
       "      <th>alternative</th>\n",
       "      <th>p-val</th>\n",
       "      <th>CI95%</th>\n",
       "      <th>cohen-d</th>\n",
       "      <th>BF10</th>\n",
       "      <th>power</th>\n",
       "    </tr>\n",
       "  </thead>\n",
       "  <tbody>\n",
       "    <tr>\n",
       "      <th>T-test</th>\n",
       "      <td>-5.601043</td>\n",
       "      <td>99</td>\n",
       "      <td>less</td>\n",
       "      <td>9.572537e-08</td>\n",
       "      <td>[-inf, -2.02]</td>\n",
       "      <td>0.560104</td>\n",
       "      <td>1.323e+05</td>\n",
       "      <td>1.0</td>\n",
       "    </tr>\n",
       "  </tbody>\n",
       "</table>\n",
       "</div>"
      ],
      "text/plain": [
       "               T  dof alternative         p-val          CI95%   cohen-d  \\\n",
       "T-test -5.601043   99        less  9.572537e-08  [-inf, -2.02]  0.560104   \n",
       "\n",
       "             BF10  power  \n",
       "T-test  1.323e+05    1.0  "
      ]
     },
     "execution_count": 23,
     "metadata": {},
     "output_type": "execute_result"
    }
   ],
   "source": [
    "#Testing differences between two means using ttest()\n",
    "\n",
    "import pingouin\n",
    "\n",
    "pingouin.ttest(x=sample_data['diff'], #valor da hipotese nula\n",
    "               y = 0, #valor da hipotese alternativa\n",
    "               alternative='less')"
   ]
  },
  {
   "cell_type": "code",
   "execution_count": 24,
   "metadata": {},
   "outputs": [
    {
     "data": {
      "text/html": [
       "<div>\n",
       "<style scoped>\n",
       "    .dataframe tbody tr th:only-of-type {\n",
       "        vertical-align: middle;\n",
       "    }\n",
       "\n",
       "    .dataframe tbody tr th {\n",
       "        vertical-align: top;\n",
       "    }\n",
       "\n",
       "    .dataframe thead th {\n",
       "        text-align: right;\n",
       "    }\n",
       "</style>\n",
       "<table border=\"1\" class=\"dataframe\">\n",
       "  <thead>\n",
       "    <tr style=\"text-align: right;\">\n",
       "      <th></th>\n",
       "      <th>T</th>\n",
       "      <th>dof</th>\n",
       "      <th>alternative</th>\n",
       "      <th>p-val</th>\n",
       "      <th>CI95%</th>\n",
       "      <th>cohen-d</th>\n",
       "      <th>BF10</th>\n",
       "      <th>power</th>\n",
       "    </tr>\n",
       "  </thead>\n",
       "  <tbody>\n",
       "    <tr>\n",
       "      <th>T-test</th>\n",
       "      <td>-5.601043</td>\n",
       "      <td>99</td>\n",
       "      <td>less</td>\n",
       "      <td>9.572537e-08</td>\n",
       "      <td>[-inf, -2.02]</td>\n",
       "      <td>0.217364</td>\n",
       "      <td>1.323e+05</td>\n",
       "      <td>0.696338</td>\n",
       "    </tr>\n",
       "  </tbody>\n",
       "</table>\n",
       "</div>"
      ],
      "text/plain": [
       "               T  dof alternative         p-val          CI95%   cohen-d  \\\n",
       "T-test -5.601043   99        less  9.572537e-08  [-inf, -2.02]  0.217364   \n",
       "\n",
       "             BF10     power  \n",
       "T-test  1.323e+05  0.696338  "
      ]
     },
     "execution_count": 24,
     "metadata": {},
     "output_type": "execute_result"
    }
   ],
   "source": [
    "pingouin.ttest(x=sample_data['repub_percent_08'],\n",
    "               y = sample_data['repub_percent_12'],\n",
    "               paired = True,\n",
    "               alternative='less')"
   ]
  },
  {
   "cell_type": "code",
   "execution_count": 25,
   "metadata": {},
   "outputs": [
    {
     "data": {
      "text/html": [
       "<div>\n",
       "<style scoped>\n",
       "    .dataframe tbody tr th:only-of-type {\n",
       "        vertical-align: middle;\n",
       "    }\n",
       "\n",
       "    .dataframe tbody tr th {\n",
       "        vertical-align: top;\n",
       "    }\n",
       "\n",
       "    .dataframe thead th {\n",
       "        text-align: right;\n",
       "    }\n",
       "</style>\n",
       "<table border=\"1\" class=\"dataframe\">\n",
       "  <thead>\n",
       "    <tr style=\"text-align: right;\">\n",
       "      <th></th>\n",
       "      <th>T</th>\n",
       "      <th>dof</th>\n",
       "      <th>alternative</th>\n",
       "      <th>p-val</th>\n",
       "      <th>CI95%</th>\n",
       "      <th>cohen-d</th>\n",
       "      <th>BF10</th>\n",
       "      <th>power</th>\n",
       "    </tr>\n",
       "  </thead>\n",
       "  <tbody>\n",
       "    <tr>\n",
       "      <th>T-test</th>\n",
       "      <td>-1.536997</td>\n",
       "      <td>198</td>\n",
       "      <td>less</td>\n",
       "      <td>0.062945</td>\n",
       "      <td>[-inf, 0.22]</td>\n",
       "      <td>0.217364</td>\n",
       "      <td>0.927</td>\n",
       "      <td>0.454972</td>\n",
       "    </tr>\n",
       "  </tbody>\n",
       "</table>\n",
       "</div>"
      ],
      "text/plain": [
       "               T  dof alternative     p-val         CI95%   cohen-d   BF10  \\\n",
       "T-test -1.536997  198        less  0.062945  [-inf, 0.22]  0.217364  0.927   \n",
       "\n",
       "           power  \n",
       "T-test  0.454972  "
      ]
     },
     "execution_count": 25,
     "metadata": {},
     "output_type": "execute_result"
    }
   ],
   "source": [
    "pingouin.ttest(x=sample_data['repub_percent_08'],\n",
    "               y = sample_data['repub_percent_12'],\n",
    "               paired = False,# The default\n",
    "               alternative='less')"
   ]
  },
  {
   "cell_type": "markdown",
   "metadata": {},
   "source": [
    "Unpaired t-tests on paired data increases the chances of false negative errors"
   ]
  },
  {
   "cell_type": "markdown",
   "metadata": {},
   "source": [
    "### Visualizing the difference\n",
    "Before you start running hypothesis tests, it's a great idea to perform some exploratory data analysis; that is, calculating summary statistics and visualizing distributions.\n",
    "\n",
    "Here, you'll look at the proportion of county-level votes for the Democratic candidate in 2012 and 2016, sample_dem_data. Since the counties are the same in both years, these samples are paired. The columns containing the samples are dem_percent_12 and dem_percent_16."
   ]
  },
  {
   "cell_type": "code",
   "execution_count": 27,
   "metadata": {},
   "outputs": [
    {
     "data": {
      "text/html": [
       "<div>\n",
       "<style scoped>\n",
       "    .dataframe tbody tr th:only-of-type {\n",
       "        vertical-align: middle;\n",
       "    }\n",
       "\n",
       "    .dataframe tbody tr th {\n",
       "        vertical-align: top;\n",
       "    }\n",
       "\n",
       "    .dataframe thead th {\n",
       "        text-align: right;\n",
       "    }\n",
       "</style>\n",
       "<table border=\"1\" class=\"dataframe\">\n",
       "  <thead>\n",
       "    <tr style=\"text-align: right;\">\n",
       "      <th></th>\n",
       "      <th>state</th>\n",
       "      <th>county</th>\n",
       "      <th>dem_percent_12</th>\n",
       "      <th>dem_percent_16</th>\n",
       "    </tr>\n",
       "  </thead>\n",
       "  <tbody>\n",
       "    <tr>\n",
       "      <th>0</th>\n",
       "      <td>Alabama</td>\n",
       "      <td>Bullock</td>\n",
       "      <td>76.305900</td>\n",
       "      <td>74.946921</td>\n",
       "    </tr>\n",
       "    <tr>\n",
       "      <th>1</th>\n",
       "      <td>Alabama</td>\n",
       "      <td>Chilton</td>\n",
       "      <td>19.453671</td>\n",
       "      <td>15.847352</td>\n",
       "    </tr>\n",
       "    <tr>\n",
       "      <th>2</th>\n",
       "      <td>Alabama</td>\n",
       "      <td>Clay</td>\n",
       "      <td>26.673672</td>\n",
       "      <td>18.674517</td>\n",
       "    </tr>\n",
       "    <tr>\n",
       "      <th>3</th>\n",
       "      <td>Alabama</td>\n",
       "      <td>Cullman</td>\n",
       "      <td>14.661752</td>\n",
       "      <td>10.028252</td>\n",
       "    </tr>\n",
       "    <tr>\n",
       "      <th>4</th>\n",
       "      <td>Alabama</td>\n",
       "      <td>Escambia</td>\n",
       "      <td>36.915731</td>\n",
       "      <td>31.020546</td>\n",
       "    </tr>\n",
       "  </tbody>\n",
       "</table>\n",
       "</div>"
      ],
      "text/plain": [
       "     state    county  dem_percent_12  dem_percent_16\n",
       "0  Alabama   Bullock       76.305900       74.946921\n",
       "1  Alabama   Chilton       19.453671       15.847352\n",
       "2  Alabama      Clay       26.673672       18.674517\n",
       "3  Alabama   Cullman       14.661752       10.028252\n",
       "4  Alabama  Escambia       36.915731       31.020546"
      ]
     },
     "execution_count": 27,
     "metadata": {},
     "output_type": "execute_result"
    }
   ],
   "source": [
    "dem_votes_potus_12_16 = pd.read_feather(r\"C:\\Users\\vnlvi\\Downloads\\Projetos\\DataCamp\\Estudos_Python_Ciencia_de_Dados\\28_Hypothesis_Testing_in_Python\\datasets\\dem_votes_potus_12_16.feather\")\n",
    "dem_votes_potus_12_16.head()"
   ]
  },
  {
   "cell_type": "code",
   "execution_count": 31,
   "metadata": {},
   "outputs": [
    {
     "data": {
      "text/plain": [
       "<AxesSubplot:>"
      ]
     },
     "execution_count": 31,
     "metadata": {},
     "output_type": "execute_result"
    },
    {
     "data": {
      "image/png": "[encoded data removed]",
      "text/plain": [
       "<Figure size 432x288 with 1 Axes>"
      ]
     },
     "metadata": {
      "needs_background": "light"
     },
     "output_type": "display_data"
    }
   ],
   "source": [
    "# Calculate the differences from 2012 to 2016\n",
    "sample_dem_data = dem_votes_potus_12_16\n",
    "sample_dem_data['diff'] = sample_dem_data['dem_percent_12'] - sample_dem_data['dem_percent_16']\n",
    "\n",
    "sample_dem_data['diff'].hist(bins=20)"
   ]
  },
  {
   "cell_type": "code",
   "execution_count": 32,
   "metadata": {},
   "outputs": [
    {
     "data": {
      "text/plain": [
       "6.829312660106832"
      ]
     },
     "execution_count": 32,
     "metadata": {},
     "output_type": "execute_result"
    }
   ],
   "source": [
    "# Find the mean of the diff column\n",
    "xbar_diff = sample_dem_data['diff'].mean()\n",
    "xbar_diff"
   ]
  },
  {
   "cell_type": "code",
   "execution_count": 33,
   "metadata": {},
   "outputs": [
    {
     "data": {
      "text/plain": [
       "5.040139140132316"
      ]
     },
     "execution_count": 33,
     "metadata": {},
     "output_type": "execute_result"
    }
   ],
   "source": [
    "# Find the standard deviation of the diff column\n",
    "s_diff = sample_dem_data['diff'].std()\n",
    "s_diff"
   ]
  },
  {
   "cell_type": "code",
   "execution_count": 38,
   "metadata": {},
   "outputs": [
    {
     "data": {
      "text/html": [
       "<div>\n",
       "<style scoped>\n",
       "    .dataframe tbody tr th:only-of-type {\n",
       "        vertical-align: middle;\n",
       "    }\n",
       "\n",
       "    .dataframe tbody tr th {\n",
       "        vertical-align: top;\n",
       "    }\n",
       "\n",
       "    .dataframe thead th {\n",
       "        text-align: right;\n",
       "    }\n",
       "</style>\n",
       "<table border=\"1\" class=\"dataframe\">\n",
       "  <thead>\n",
       "    <tr style=\"text-align: right;\">\n",
       "      <th></th>\n",
       "      <th>T</th>\n",
       "      <th>dof</th>\n",
       "      <th>alternative</th>\n",
       "      <th>p-val</th>\n",
       "      <th>CI95%</th>\n",
       "      <th>cohen-d</th>\n",
       "      <th>BF10</th>\n",
       "      <th>power</th>\n",
       "    </tr>\n",
       "  </thead>\n",
       "  <tbody>\n",
       "    <tr>\n",
       "      <th>T-test</th>\n",
       "      <td>30.298384</td>\n",
       "      <td>499</td>\n",
       "      <td>two-sided</td>\n",
       "      <td>3.600634e-115</td>\n",
       "      <td>[6.39, 7.27]</td>\n",
       "      <td>1.354985</td>\n",
       "      <td>2.246e+111</td>\n",
       "      <td>1.0</td>\n",
       "    </tr>\n",
       "  </tbody>\n",
       "</table>\n",
       "</div>"
      ],
      "text/plain": [
       "                T  dof alternative          p-val         CI95%   cohen-d  \\\n",
       "T-test  30.298384  499   two-sided  3.600634e-115  [6.39, 7.27]  1.354985   \n",
       "\n",
       "              BF10  power  \n",
       "T-test  2.246e+111    1.0  "
      ]
     },
     "execution_count": 38,
     "metadata": {},
     "output_type": "execute_result"
    }
   ],
   "source": [
    "# Conduct a t-test on the sample differences (the diff column of sample_dem_data), using an appropriate alternative hypothesis chosen from \"two-sided\", \"less\", and \"greater\".\n",
    "\n",
    "# Conduct a t-test on diff\n",
    "test_results = pingouin.ttest(x=sample_dem_data['diff'], #valor da hipotese nula\n",
    "               y = 0, #valor da hipotese alternativa\n",
    "               alternative='two-sided')\n",
    "\n",
    "test_results"
   ]
  },
  {
   "cell_type": "code",
   "execution_count": 40,
   "metadata": {},
   "outputs": [
    {
     "data": {
      "text/plain": [
       "T-test    True\n",
       "Name: p-val, dtype: bool"
      ]
     },
     "execution_count": 40,
     "metadata": {},
     "output_type": "execute_result"
    }
   ],
   "source": [
    "test_results['p-val'] <= 0.01\n",
    "#Reject the null hypothesis"
   ]
  },
  {
   "cell_type": "code",
   "execution_count": 41,
   "metadata": {},
   "outputs": [
    {
     "data": {
      "text/plain": [
       "Index(['state', 'county', 'dem_percent_12', 'dem_percent_16', 'diff'], dtype='object')"
      ]
     },
     "execution_count": 41,
     "metadata": {},
     "output_type": "execute_result"
    }
   ],
   "source": [
    "sample_dem_data.columns"
   ]
  },
  {
   "cell_type": "code",
   "execution_count": 44,
   "metadata": {},
   "outputs": [
    {
     "data": {
      "text/html": [
       "<div>\n",
       "<style scoped>\n",
       "    .dataframe tbody tr th:only-of-type {\n",
       "        vertical-align: middle;\n",
       "    }\n",
       "\n",
       "    .dataframe tbody tr th {\n",
       "        vertical-align: top;\n",
       "    }\n",
       "\n",
       "    .dataframe thead th {\n",
       "        text-align: right;\n",
       "    }\n",
       "</style>\n",
       "<table border=\"1\" class=\"dataframe\">\n",
       "  <thead>\n",
       "    <tr style=\"text-align: right;\">\n",
       "      <th></th>\n",
       "      <th>T</th>\n",
       "      <th>dof</th>\n",
       "      <th>alternative</th>\n",
       "      <th>p-val</th>\n",
       "      <th>CI95%</th>\n",
       "      <th>cohen-d</th>\n",
       "      <th>BF10</th>\n",
       "      <th>power</th>\n",
       "    </tr>\n",
       "  </thead>\n",
       "  <tbody>\n",
       "    <tr>\n",
       "      <th>T-test</th>\n",
       "      <td>30.298384</td>\n",
       "      <td>499</td>\n",
       "      <td>two-sided</td>\n",
       "      <td>3.600634e-115</td>\n",
       "      <td>[6.39, 7.27]</td>\n",
       "      <td>0.454202</td>\n",
       "      <td>2.246e+111</td>\n",
       "      <td>1.0</td>\n",
       "    </tr>\n",
       "  </tbody>\n",
       "</table>\n",
       "</div>"
      ],
      "text/plain": [
       "                T  dof alternative          p-val         CI95%   cohen-d  \\\n",
       "T-test  30.298384  499   two-sided  3.600634e-115  [6.39, 7.27]  0.454202   \n",
       "\n",
       "              BF10  power  \n",
       "T-test  2.246e+111    1.0  "
      ]
     },
     "execution_count": 44,
     "metadata": {},
     "output_type": "execute_result"
    }
   ],
   "source": [
    "#Conduct a paired test on the democratic votes in 2012 and 2016 (the dem_percent_12 and dem_percent_16 columns of sample_dem_data), using an appropriate alternative hypothesis.\n",
    "\n",
    "paired_test_results = pingouin.ttest(x=sample_dem_data['dem_percent_12'],\n",
    "               y = sample_dem_data['dem_percent_16'],\n",
    "               paired = True,\n",
    "               alternative='two-sided')\n",
    "paired_test_results"
   ]
  },
  {
   "cell_type": "code",
   "execution_count": 46,
   "metadata": {},
   "outputs": [],
   "source": [
    "teste = pingouin.ttest(x=sample_dem_data['dem_percent_12'], \n",
    "               y=sample_dem_data['dem_percent_16'], \n",
    "               alternative=\"two-sided\")"
   ]
  },
  {
   "cell_type": "code",
   "execution_count": 47,
   "metadata": {},
   "outputs": [
    {
     "data": {
      "text/plain": [
       "T-test    True\n",
       "Name: p-val, dtype: bool"
      ]
     },
     "execution_count": 47,
     "metadata": {},
     "output_type": "execute_result"
    }
   ],
   "source": [
    "paired_test_results['p-val'] < teste['p-val']"
   ]
  },
  {
   "cell_type": "markdown",
   "metadata": {},
   "source": [
    "### Visualizing multiple distributions\n",
    "Is mean annual compensation dierent for diferent levels of job satisfaction?\n",
    "\n",
    "- Para casos com mais de dois grupos"
   ]
  },
  {
   "cell_type": "code",
   "execution_count": 48,
   "metadata": {},
   "outputs": [
    {
     "data": {
      "text/plain": [
       "<AxesSubplot:xlabel='converted_comp', ylabel='job_sat'>"
      ]
     },
     "execution_count": 48,
     "metadata": {},
     "output_type": "execute_result"
    },
    {
     "data": {
      "image/png": "[encoded data removed]",
      "text/plain": [
       "<Figure size 432x288 with 1 Axes>"
      ]
     },
     "metadata": {
      "needs_background": "light"
     },
     "output_type": "display_data"
    }
   ],
   "source": [
    "import seaborn as sns\n",
    "\n",
    "sns.boxplot(x = 'converted_comp',\n",
    "            y = 'job_sat',\n",
    "            data = stack_overflow)"
   ]
  },
  {
   "cell_type": "code",
   "execution_count": 49,
   "metadata": {},
   "outputs": [],
   "source": [
    "alpha = 0.2"
   ]
  },
  {
   "cell_type": "code",
   "execution_count": 50,
   "metadata": {},
   "outputs": [
    {
     "data": {
      "text/html": [
       "<div>\n",
       "<style scoped>\n",
       "    .dataframe tbody tr th:only-of-type {\n",
       "        vertical-align: middle;\n",
       "    }\n",
       "\n",
       "    .dataframe tbody tr th {\n",
       "        vertical-align: top;\n",
       "    }\n",
       "\n",
       "    .dataframe thead th {\n",
       "        text-align: right;\n",
       "    }\n",
       "</style>\n",
       "<table border=\"1\" class=\"dataframe\">\n",
       "  <thead>\n",
       "    <tr style=\"text-align: right;\">\n",
       "      <th></th>\n",
       "      <th>Source</th>\n",
       "      <th>ddof1</th>\n",
       "      <th>ddof2</th>\n",
       "      <th>F</th>\n",
       "      <th>p-unc</th>\n",
       "      <th>np2</th>\n",
       "    </tr>\n",
       "  </thead>\n",
       "  <tbody>\n",
       "    <tr>\n",
       "      <th>0</th>\n",
       "      <td>job_sat</td>\n",
       "      <td>4</td>\n",
       "      <td>2256</td>\n",
       "      <td>4.480485</td>\n",
       "      <td>0.001315</td>\n",
       "      <td>0.007882</td>\n",
       "    </tr>\n",
       "  </tbody>\n",
       "</table>\n",
       "</div>"
      ],
      "text/plain": [
       "    Source  ddof1  ddof2         F     p-unc       np2\n",
       "0  job_sat      4   2256  4.480485  0.001315  0.007882"
      ]
     },
     "execution_count": 50,
     "metadata": {},
     "output_type": "execute_result"
    }
   ],
   "source": [
    "pingouin.anova(data=stack_overflow,\n",
    "               dv = 'converted_comp',\n",
    "               between = 'job_sat')"
   ]
  },
  {
   "cell_type": "code",
   "execution_count": 51,
   "metadata": {},
   "outputs": [
    {
     "data": {
      "text/html": [
       "<div>\n",
       "<style scoped>\n",
       "    .dataframe tbody tr th:only-of-type {\n",
       "        vertical-align: middle;\n",
       "    }\n",
       "\n",
       "    .dataframe tbody tr th {\n",
       "        vertical-align: top;\n",
       "    }\n",
       "\n",
       "    .dataframe thead th {\n",
       "        text-align: right;\n",
       "    }\n",
       "</style>\n",
       "<table border=\"1\" class=\"dataframe\">\n",
       "  <thead>\n",
       "    <tr style=\"text-align: right;\">\n",
       "      <th></th>\n",
       "      <th>Contrast</th>\n",
       "      <th>A</th>\n",
       "      <th>B</th>\n",
       "      <th>Paired</th>\n",
       "      <th>Parametric</th>\n",
       "      <th>T</th>\n",
       "      <th>dof</th>\n",
       "      <th>alternative</th>\n",
       "      <th>p-unc</th>\n",
       "      <th>BF10</th>\n",
       "      <th>hedges</th>\n",
       "    </tr>\n",
       "  </thead>\n",
       "  <tbody>\n",
       "    <tr>\n",
       "      <th>0</th>\n",
       "      <td>job_sat</td>\n",
       "      <td>Slightly satisfied</td>\n",
       "      <td>Very satisfied</td>\n",
       "      <td>False</td>\n",
       "      <td>True</td>\n",
       "      <td>-4.009935</td>\n",
       "      <td>1478.622799</td>\n",
       "      <td>two-sided</td>\n",
       "      <td>0.000064</td>\n",
       "      <td>158.564</td>\n",
       "      <td>-0.192931</td>\n",
       "    </tr>\n",
       "    <tr>\n",
       "      <th>1</th>\n",
       "      <td>job_sat</td>\n",
       "      <td>Slightly satisfied</td>\n",
       "      <td>Neither</td>\n",
       "      <td>False</td>\n",
       "      <td>True</td>\n",
       "      <td>-0.700752</td>\n",
       "      <td>258.204546</td>\n",
       "      <td>two-sided</td>\n",
       "      <td>0.484088</td>\n",
       "      <td>0.114</td>\n",
       "      <td>-0.068513</td>\n",
       "    </tr>\n",
       "    <tr>\n",
       "      <th>2</th>\n",
       "      <td>job_sat</td>\n",
       "      <td>Slightly satisfied</td>\n",
       "      <td>Very dissatisfied</td>\n",
       "      <td>False</td>\n",
       "      <td>True</td>\n",
       "      <td>-1.243665</td>\n",
       "      <td>187.153329</td>\n",
       "      <td>two-sided</td>\n",
       "      <td>0.215179</td>\n",
       "      <td>0.208</td>\n",
       "      <td>-0.145624</td>\n",
       "    </tr>\n",
       "    <tr>\n",
       "      <th>3</th>\n",
       "      <td>job_sat</td>\n",
       "      <td>Slightly satisfied</td>\n",
       "      <td>Slightly dissatisfied</td>\n",
       "      <td>False</td>\n",
       "      <td>True</td>\n",
       "      <td>-0.038264</td>\n",
       "      <td>569.926329</td>\n",
       "      <td>two-sided</td>\n",
       "      <td>0.969491</td>\n",
       "      <td>0.074</td>\n",
       "      <td>-0.002719</td>\n",
       "    </tr>\n",
       "    <tr>\n",
       "      <th>4</th>\n",
       "      <td>job_sat</td>\n",
       "      <td>Very satisfied</td>\n",
       "      <td>Neither</td>\n",
       "      <td>False</td>\n",
       "      <td>True</td>\n",
       "      <td>1.662901</td>\n",
       "      <td>328.326639</td>\n",
       "      <td>two-sided</td>\n",
       "      <td>0.097286</td>\n",
       "      <td>0.337</td>\n",
       "      <td>0.120115</td>\n",
       "    </tr>\n",
       "    <tr>\n",
       "      <th>5</th>\n",
       "      <td>job_sat</td>\n",
       "      <td>Very satisfied</td>\n",
       "      <td>Very dissatisfied</td>\n",
       "      <td>False</td>\n",
       "      <td>True</td>\n",
       "      <td>0.747379</td>\n",
       "      <td>221.666205</td>\n",
       "      <td>two-sided</td>\n",
       "      <td>0.455627</td>\n",
       "      <td>0.126</td>\n",
       "      <td>0.063479</td>\n",
       "    </tr>\n",
       "    <tr>\n",
       "      <th>6</th>\n",
       "      <td>job_sat</td>\n",
       "      <td>Very satisfied</td>\n",
       "      <td>Slightly dissatisfied</td>\n",
       "      <td>False</td>\n",
       "      <td>True</td>\n",
       "      <td>3.076222</td>\n",
       "      <td>821.303063</td>\n",
       "      <td>two-sided</td>\n",
       "      <td>0.002166</td>\n",
       "      <td>7.43</td>\n",
       "      <td>0.173247</td>\n",
       "    </tr>\n",
       "    <tr>\n",
       "      <th>7</th>\n",
       "      <td>job_sat</td>\n",
       "      <td>Neither</td>\n",
       "      <td>Very dissatisfied</td>\n",
       "      <td>False</td>\n",
       "      <td>True</td>\n",
       "      <td>-0.545948</td>\n",
       "      <td>321.165726</td>\n",
       "      <td>two-sided</td>\n",
       "      <td>0.585481</td>\n",
       "      <td>0.135</td>\n",
       "      <td>-0.058537</td>\n",
       "    </tr>\n",
       "    <tr>\n",
       "      <th>8</th>\n",
       "      <td>job_sat</td>\n",
       "      <td>Neither</td>\n",
       "      <td>Slightly dissatisfied</td>\n",
       "      <td>False</td>\n",
       "      <td>True</td>\n",
       "      <td>0.602209</td>\n",
       "      <td>367.730081</td>\n",
       "      <td>two-sided</td>\n",
       "      <td>0.547406</td>\n",
       "      <td>0.118</td>\n",
       "      <td>0.055707</td>\n",
       "    </tr>\n",
       "    <tr>\n",
       "      <th>9</th>\n",
       "      <td>job_sat</td>\n",
       "      <td>Very dissatisfied</td>\n",
       "      <td>Slightly dissatisfied</td>\n",
       "      <td>False</td>\n",
       "      <td>True</td>\n",
       "      <td>1.129951</td>\n",
       "      <td>247.570187</td>\n",
       "      <td>two-sided</td>\n",
       "      <td>0.259590</td>\n",
       "      <td>0.197</td>\n",
       "      <td>0.119131</td>\n",
       "    </tr>\n",
       "  </tbody>\n",
       "</table>\n",
       "</div>"
      ],
      "text/plain": [
       "  Contrast                   A                      B  Paired  Parametric  \\\n",
       "0  job_sat  Slightly satisfied         Very satisfied   False        True   \n",
       "1  job_sat  Slightly satisfied                Neither   False        True   \n",
       "2  job_sat  Slightly satisfied      Very dissatisfied   False        True   \n",
       "3  job_sat  Slightly satisfied  Slightly dissatisfied   False        True   \n",
       "4  job_sat      Very satisfied                Neither   False        True   \n",
       "5  job_sat      Very satisfied      Very dissatisfied   False        True   \n",
       "6  job_sat      Very satisfied  Slightly dissatisfied   False        True   \n",
       "7  job_sat             Neither      Very dissatisfied   False        True   \n",
       "8  job_sat             Neither  Slightly dissatisfied   False        True   \n",
       "9  job_sat   Very dissatisfied  Slightly dissatisfied   False        True   \n",
       "\n",
       "          T          dof alternative     p-unc     BF10    hedges  \n",
       "0 -4.009935  1478.622799   two-sided  0.000064  158.564 -0.192931  \n",
       "1 -0.700752   258.204546   two-sided  0.484088    0.114 -0.068513  \n",
       "2 -1.243665   187.153329   two-sided  0.215179    0.208 -0.145624  \n",
       "3 -0.038264   569.926329   two-sided  0.969491    0.074 -0.002719  \n",
       "4  1.662901   328.326639   two-sided  0.097286    0.337  0.120115  \n",
       "5  0.747379   221.666205   two-sided  0.455627    0.126  0.063479  \n",
       "6  3.076222   821.303063   two-sided  0.002166     7.43  0.173247  \n",
       "7 -0.545948   321.165726   two-sided  0.585481    0.135 -0.058537  \n",
       "8  0.602209   367.730081   two-sided  0.547406    0.118  0.055707  \n",
       "9  1.129951   247.570187   two-sided  0.259590    0.197  0.119131  "
      ]
     },
     "execution_count": 51,
     "metadata": {},
     "output_type": "execute_result"
    }
   ],
   "source": [
    "#Pairwise test, teste com combinacao de pares \n",
    "pingouin.pairwise_ttests(data=stack_overflow,\n",
    "               dv = 'converted_comp',\n",
    "               between = 'job_sat',\n",
    "               padjust='none')"
   ]
  },
  {
   "cell_type": "code",
   "execution_count": 52,
   "metadata": {},
   "outputs": [
    {
     "data": {
      "text/html": [
       "<div>\n",
       "<style scoped>\n",
       "    .dataframe tbody tr th:only-of-type {\n",
       "        vertical-align: middle;\n",
       "    }\n",
       "\n",
       "    .dataframe tbody tr th {\n",
       "        vertical-align: top;\n",
       "    }\n",
       "\n",
       "    .dataframe thead th {\n",
       "        text-align: right;\n",
       "    }\n",
       "</style>\n",
       "<table border=\"1\" class=\"dataframe\">\n",
       "  <thead>\n",
       "    <tr style=\"text-align: right;\">\n",
       "      <th></th>\n",
       "      <th>Contrast</th>\n",
       "      <th>A</th>\n",
       "      <th>B</th>\n",
       "      <th>Paired</th>\n",
       "      <th>Parametric</th>\n",
       "      <th>T</th>\n",
       "      <th>dof</th>\n",
       "      <th>alternative</th>\n",
       "      <th>p-unc</th>\n",
       "      <th>p-corr</th>\n",
       "      <th>p-adjust</th>\n",
       "      <th>BF10</th>\n",
       "      <th>hedges</th>\n",
       "    </tr>\n",
       "  </thead>\n",
       "  <tbody>\n",
       "    <tr>\n",
       "      <th>0</th>\n",
       "      <td>job_sat</td>\n",
       "      <td>Slightly satisfied</td>\n",
       "      <td>Very satisfied</td>\n",
       "      <td>False</td>\n",
       "      <td>True</td>\n",
       "      <td>-4.009935</td>\n",
       "      <td>1478.622799</td>\n",
       "      <td>two-sided</td>\n",
       "      <td>0.000064</td>\n",
       "      <td>0.000638</td>\n",
       "      <td>bonf</td>\n",
       "      <td>158.564</td>\n",
       "      <td>-0.192931</td>\n",
       "    </tr>\n",
       "    <tr>\n",
       "      <th>1</th>\n",
       "      <td>job_sat</td>\n",
       "      <td>Slightly satisfied</td>\n",
       "      <td>Neither</td>\n",
       "      <td>False</td>\n",
       "      <td>True</td>\n",
       "      <td>-0.700752</td>\n",
       "      <td>258.204546</td>\n",
       "      <td>two-sided</td>\n",
       "      <td>0.484088</td>\n",
       "      <td>1.000000</td>\n",
       "      <td>bonf</td>\n",
       "      <td>0.114</td>\n",
       "      <td>-0.068513</td>\n",
       "    </tr>\n",
       "    <tr>\n",
       "      <th>2</th>\n",
       "      <td>job_sat</td>\n",
       "      <td>Slightly satisfied</td>\n",
       "      <td>Very dissatisfied</td>\n",
       "      <td>False</td>\n",
       "      <td>True</td>\n",
       "      <td>-1.243665</td>\n",
       "      <td>187.153329</td>\n",
       "      <td>two-sided</td>\n",
       "      <td>0.215179</td>\n",
       "      <td>1.000000</td>\n",
       "      <td>bonf</td>\n",
       "      <td>0.208</td>\n",
       "      <td>-0.145624</td>\n",
       "    </tr>\n",
       "    <tr>\n",
       "      <th>3</th>\n",
       "      <td>job_sat</td>\n",
       "      <td>Slightly satisfied</td>\n",
       "      <td>Slightly dissatisfied</td>\n",
       "      <td>False</td>\n",
       "      <td>True</td>\n",
       "      <td>-0.038264</td>\n",
       "      <td>569.926329</td>\n",
       "      <td>two-sided</td>\n",
       "      <td>0.969491</td>\n",
       "      <td>1.000000</td>\n",
       "      <td>bonf</td>\n",
       "      <td>0.074</td>\n",
       "      <td>-0.002719</td>\n",
       "    </tr>\n",
       "    <tr>\n",
       "      <th>4</th>\n",
       "      <td>job_sat</td>\n",
       "      <td>Very satisfied</td>\n",
       "      <td>Neither</td>\n",
       "      <td>False</td>\n",
       "      <td>True</td>\n",
       "      <td>1.662901</td>\n",
       "      <td>328.326639</td>\n",
       "      <td>two-sided</td>\n",
       "      <td>0.097286</td>\n",
       "      <td>0.972864</td>\n",
       "      <td>bonf</td>\n",
       "      <td>0.337</td>\n",
       "      <td>0.120115</td>\n",
       "    </tr>\n",
       "    <tr>\n",
       "      <th>5</th>\n",
       "      <td>job_sat</td>\n",
       "      <td>Very satisfied</td>\n",
       "      <td>Very dissatisfied</td>\n",
       "      <td>False</td>\n",
       "      <td>True</td>\n",
       "      <td>0.747379</td>\n",
       "      <td>221.666205</td>\n",
       "      <td>two-sided</td>\n",
       "      <td>0.455627</td>\n",
       "      <td>1.000000</td>\n",
       "      <td>bonf</td>\n",
       "      <td>0.126</td>\n",
       "      <td>0.063479</td>\n",
       "    </tr>\n",
       "    <tr>\n",
       "      <th>6</th>\n",
       "      <td>job_sat</td>\n",
       "      <td>Very satisfied</td>\n",
       "      <td>Slightly dissatisfied</td>\n",
       "      <td>False</td>\n",
       "      <td>True</td>\n",
       "      <td>3.076222</td>\n",
       "      <td>821.303063</td>\n",
       "      <td>two-sided</td>\n",
       "      <td>0.002166</td>\n",
       "      <td>0.021659</td>\n",
       "      <td>bonf</td>\n",
       "      <td>7.43</td>\n",
       "      <td>0.173247</td>\n",
       "    </tr>\n",
       "    <tr>\n",
       "      <th>7</th>\n",
       "      <td>job_sat</td>\n",
       "      <td>Neither</td>\n",
       "      <td>Very dissatisfied</td>\n",
       "      <td>False</td>\n",
       "      <td>True</td>\n",
       "      <td>-0.545948</td>\n",
       "      <td>321.165726</td>\n",
       "      <td>two-sided</td>\n",
       "      <td>0.585481</td>\n",
       "      <td>1.000000</td>\n",
       "      <td>bonf</td>\n",
       "      <td>0.135</td>\n",
       "      <td>-0.058537</td>\n",
       "    </tr>\n",
       "    <tr>\n",
       "      <th>8</th>\n",
       "      <td>job_sat</td>\n",
       "      <td>Neither</td>\n",
       "      <td>Slightly dissatisfied</td>\n",
       "      <td>False</td>\n",
       "      <td>True</td>\n",
       "      <td>0.602209</td>\n",
       "      <td>367.730081</td>\n",
       "      <td>two-sided</td>\n",
       "      <td>0.547406</td>\n",
       "      <td>1.000000</td>\n",
       "      <td>bonf</td>\n",
       "      <td>0.118</td>\n",
       "      <td>0.055707</td>\n",
       "    </tr>\n",
       "    <tr>\n",
       "      <th>9</th>\n",
       "      <td>job_sat</td>\n",
       "      <td>Very dissatisfied</td>\n",
       "      <td>Slightly dissatisfied</td>\n",
       "      <td>False</td>\n",
       "      <td>True</td>\n",
       "      <td>1.129951</td>\n",
       "      <td>247.570187</td>\n",
       "      <td>two-sided</td>\n",
       "      <td>0.259590</td>\n",
       "      <td>1.000000</td>\n",
       "      <td>bonf</td>\n",
       "      <td>0.197</td>\n",
       "      <td>0.119131</td>\n",
       "    </tr>\n",
       "  </tbody>\n",
       "</table>\n",
       "</div>"
      ],
      "text/plain": [
       "  Contrast                   A                      B  Paired  Parametric  \\\n",
       "0  job_sat  Slightly satisfied         Very satisfied   False        True   \n",
       "1  job_sat  Slightly satisfied                Neither   False        True   \n",
       "2  job_sat  Slightly satisfied      Very dissatisfied   False        True   \n",
       "3  job_sat  Slightly satisfied  Slightly dissatisfied   False        True   \n",
       "4  job_sat      Very satisfied                Neither   False        True   \n",
       "5  job_sat      Very satisfied      Very dissatisfied   False        True   \n",
       "6  job_sat      Very satisfied  Slightly dissatisfied   False        True   \n",
       "7  job_sat             Neither      Very dissatisfied   False        True   \n",
       "8  job_sat             Neither  Slightly dissatisfied   False        True   \n",
       "9  job_sat   Very dissatisfied  Slightly dissatisfied   False        True   \n",
       "\n",
       "          T          dof alternative     p-unc    p-corr p-adjust     BF10  \\\n",
       "0 -4.009935  1478.622799   two-sided  0.000064  0.000638     bonf  158.564   \n",
       "1 -0.700752   258.204546   two-sided  0.484088  1.000000     bonf    0.114   \n",
       "2 -1.243665   187.153329   two-sided  0.215179  1.000000     bonf    0.208   \n",
       "3 -0.038264   569.926329   two-sided  0.969491  1.000000     bonf    0.074   \n",
       "4  1.662901   328.326639   two-sided  0.097286  0.972864     bonf    0.337   \n",
       "5  0.747379   221.666205   two-sided  0.455627  1.000000     bonf    0.126   \n",
       "6  3.076222   821.303063   two-sided  0.002166  0.021659     bonf     7.43   \n",
       "7 -0.545948   321.165726   two-sided  0.585481  1.000000     bonf    0.135   \n",
       "8  0.602209   367.730081   two-sided  0.547406  1.000000     bonf    0.118   \n",
       "9  1.129951   247.570187   two-sided  0.259590  1.000000     bonf    0.197   \n",
       "\n",
       "     hedges  \n",
       "0 -0.192931  \n",
       "1 -0.068513  \n",
       "2 -0.145624  \n",
       "3 -0.002719  \n",
       "4  0.120115  \n",
       "5  0.063479  \n",
       "6  0.173247  \n",
       "7 -0.058537  \n",
       "8  0.055707  \n",
       "9  0.119131  "
      ]
     },
     "execution_count": 52,
     "metadata": {},
     "output_type": "execute_result"
    }
   ],
   "source": [
    "#Bonferroni correction, para reduzirmos as chances de falsos positivos\n",
    "pingouin.pairwise_ttests(data=stack_overflow,\n",
    "               dv = 'converted_comp',\n",
    "               between = 'job_sat',\n",
    "               padjust='bonf')"
   ]
  },
  {
   "cell_type": "markdown",
   "metadata": {},
   "source": [
    "### Visualizing many categories\n",
    "So far in this chapter, we've only considered the case of differences in a numeric variable between two categories. Of course, many datasets contain more categories. Before you get to conducting tests on many categories, it's often helpful to perform exploratory data analysis (EDA), calculating summary statistics for each group and visualizing the distributions of the numeric variable for each category using box plots.\n",
    "\n",
    "Here, we'll return to the late shipments data, and how the price of each package (pack_price) varies between the three shipment modes (shipment_mode): \"Air\", \"Air Charter\", and \"Ocean\"."
   ]
  },
  {
   "cell_type": "code",
   "execution_count": 56,
   "metadata": {},
   "outputs": [
    {
     "name": "stdout",
     "output_type": "stream",
     "text": [
      "shipment_mode\n",
      "Air            39.712395\n",
      "Air Charter     4.226667\n",
      "Ocean           6.432273\n",
      "Name: pack_price, dtype: float64\n"
     ]
    }
   ],
   "source": [
    "# Calculate the mean pack_price for each shipment_mode\n",
    "xbar_pack_by_mode = late_shipments.groupby('shipment_mode')['pack_price'].mean()\n",
    "\n",
    "# Print the grouped means\n",
    "print(xbar_pack_by_mode)"
   ]
  },
  {
   "cell_type": "code",
   "execution_count": 57,
   "metadata": {},
   "outputs": [
    {
     "name": "stdout",
     "output_type": "stream",
     "text": [
      "shipment_mode\n",
      "Air            48.932861\n",
      "Air Charter     0.992969\n",
      "Ocean           5.303047\n",
      "Name: pack_price, dtype: float64\n"
     ]
    }
   ],
   "source": [
    "# Calculate the standard deviation of the pack_price for each shipment_mode\n",
    "s_pack_by_mode = late_shipments.groupby('shipment_mode')['pack_price'].std()\n",
    "\n",
    "# Print the grouped standard deviations\n",
    "print(s_pack_by_mode)"
   ]
  },
  {
   "cell_type": "code",
   "execution_count": 58,
   "metadata": {},
   "outputs": [
    {
     "data": {
      "text/plain": [
       "<AxesSubplot:xlabel='pack_price', ylabel='shipment_mode'>"
      ]
     },
     "execution_count": 58,
     "metadata": {},
     "output_type": "execute_result"
    },
    {
     "data": {
      "image/png": "[encoded data removed]",
      "text/plain": [
       "<Figure size 432x288 with 1 Axes>"
      ]
     },
     "metadata": {
      "needs_background": "light"
     },
     "output_type": "display_data"
    }
   ],
   "source": [
    "# Create a boxplot from late_shipments with \"pack_price\" as x and \"shipment_mode\" as y.\n",
    "\n",
    "sns.boxplot(data = late_shipments,\n",
    "            x = 'pack_price',\n",
    "            y = 'shipment_mode')"
   ]
  },
  {
   "cell_type": "markdown",
   "metadata": {},
   "source": [
    "### ANOVA\n",
    "The box plots made it look like the distribution of pack price was different for each of the three shipment modes. However, it didn't tell us whether the mean pack price was different in each category. To determine that, we can use an ANOVA test. The null and alternative hypotheses can be written as follows.\n",
    "\n",
    "H0: Pack prices for every category of shipment mode are the same.\n",
    "\n",
    "Ha: Pack prices for some categories of shipment mode are different.\n",
    "\n",
    "We'll set a significance level of 0.1."
   ]
  },
  {
   "cell_type": "code",
   "execution_count": 61,
   "metadata": {},
   "outputs": [
    {
     "name": "stdout",
     "output_type": "stream",
     "text": [
      "          Source  ddof1  ddof2        F         p-unc       np2\n",
      "0  shipment_mode      2    997  21.8646  5.089479e-10  0.042018\n"
     ]
    }
   ],
   "source": [
    "# Run an ANOVA for pack_price across shipment_mode\n",
    "anova_results = pingouin.anova(data=late_shipments,\n",
    "                      dv = 'pack_price',\n",
    "                      between = 'shipment_mode')\n",
    "\n",
    "\n",
    "\n",
    "# Print anova_results\n",
    "print(anova_results)"
   ]
  },
  {
   "cell_type": "markdown",
   "metadata": {},
   "source": [
    "Assuming a significance level of 0.1, should you reject the null hypothesis that there is a difference between pack prices between the shipment modes?"
   ]
  },
  {
   "cell_type": "code",
   "execution_count": 63,
   "metadata": {},
   "outputs": [],
   "source": [
    "alpha = 0.1"
   ]
  },
  {
   "cell_type": "code",
   "execution_count": 65,
   "metadata": {},
   "outputs": [
    {
     "data": {
      "text/plain": [
       "0    True\n",
       "Name: p-unc, dtype: bool"
      ]
     },
     "execution_count": 65,
     "metadata": {},
     "output_type": "execute_result"
    }
   ],
   "source": [
    "anova_results['p-unc'] <= alpha"
   ]
  },
  {
   "cell_type": "markdown",
   "metadata": {},
   "source": [
    "Yes. The p-value is less than or equal to the significance level, so the null hypothesis should be rejected."
   ]
  },
  {
   "cell_type": "markdown",
   "metadata": {},
   "source": [
    "### Pairwise t-tests\n",
    "The ANOVA test didn't tell you which categories of shipment mode had significant differences in pack prices. To pinpoint which categories had differences, you could instead use pairwise t-tests."
   ]
  },
  {
   "cell_type": "code",
   "execution_count": 67,
   "metadata": {},
   "outputs": [
    {
     "data": {
      "text/html": [
       "<div>\n",
       "<style scoped>\n",
       "    .dataframe tbody tr th:only-of-type {\n",
       "        vertical-align: middle;\n",
       "    }\n",
       "\n",
       "    .dataframe tbody tr th {\n",
       "        vertical-align: top;\n",
       "    }\n",
       "\n",
       "    .dataframe thead th {\n",
       "        text-align: right;\n",
       "    }\n",
       "</style>\n",
       "<table border=\"1\" class=\"dataframe\">\n",
       "  <thead>\n",
       "    <tr style=\"text-align: right;\">\n",
       "      <th></th>\n",
       "      <th>Contrast</th>\n",
       "      <th>A</th>\n",
       "      <th>B</th>\n",
       "      <th>Paired</th>\n",
       "      <th>Parametric</th>\n",
       "      <th>T</th>\n",
       "      <th>dof</th>\n",
       "      <th>alternative</th>\n",
       "      <th>p-unc</th>\n",
       "      <th>BF10</th>\n",
       "      <th>hedges</th>\n",
       "    </tr>\n",
       "  </thead>\n",
       "  <tbody>\n",
       "    <tr>\n",
       "      <th>0</th>\n",
       "      <td>shipment_mode</td>\n",
       "      <td>Air</td>\n",
       "      <td>Air Charter</td>\n",
       "      <td>False</td>\n",
       "      <td>True</td>\n",
       "      <td>21.179625</td>\n",
       "      <td>600.685682</td>\n",
       "      <td>two-sided</td>\n",
       "      <td>8.748346e-75</td>\n",
       "      <td>5.809e+76</td>\n",
       "      <td>0.726592</td>\n",
       "    </tr>\n",
       "    <tr>\n",
       "      <th>1</th>\n",
       "      <td>shipment_mode</td>\n",
       "      <td>Air</td>\n",
       "      <td>Ocean</td>\n",
       "      <td>False</td>\n",
       "      <td>True</td>\n",
       "      <td>19.335760</td>\n",
       "      <td>986.979785</td>\n",
       "      <td>two-sided</td>\n",
       "      <td>6.934555e-71</td>\n",
       "      <td>1.129e+67</td>\n",
       "      <td>0.711119</td>\n",
       "    </tr>\n",
       "    <tr>\n",
       "      <th>2</th>\n",
       "      <td>shipment_mode</td>\n",
       "      <td>Air Charter</td>\n",
       "      <td>Ocean</td>\n",
       "      <td>False</td>\n",
       "      <td>True</td>\n",
       "      <td>-3.170654</td>\n",
       "      <td>35.615026</td>\n",
       "      <td>two-sided</td>\n",
       "      <td>3.123012e-03</td>\n",
       "      <td>15.277</td>\n",
       "      <td>-0.423775</td>\n",
       "    </tr>\n",
       "  </tbody>\n",
       "</table>\n",
       "</div>"
      ],
      "text/plain": [
       "        Contrast            A            B  Paired  Parametric          T  \\\n",
       "0  shipment_mode          Air  Air Charter   False        True  21.179625   \n",
       "1  shipment_mode          Air        Ocean   False        True  19.335760   \n",
       "2  shipment_mode  Air Charter        Ocean   False        True  -3.170654   \n",
       "\n",
       "          dof alternative         p-unc       BF10    hedges  \n",
       "0  600.685682   two-sided  8.748346e-75  5.809e+76  0.726592  \n",
       "1  986.979785   two-sided  6.934555e-71  1.129e+67  0.711119  \n",
       "2   35.615026   two-sided  3.123012e-03     15.277 -0.423775  "
      ]
     },
     "execution_count": 67,
     "metadata": {},
     "output_type": "execute_result"
    }
   ],
   "source": [
    "# Perform a pairwise t-test on pack price, grouped by shipment mode\n",
    "# Perform pairwise t-tests on late_shipments's pack_price variable, grouped by shipment_mode, without doing any p-value adjustment.\n",
    "pairwise_results = pingouin.pairwise_ttests(data=late_shipments,\n",
    "               dv = 'pack_price',\n",
    "               between = 'shipment_mode',\n",
    "               padjust='none') \n",
    "\n",
    "\n",
    "\n",
    "\n",
    "# Print pairwise_results\n",
    "pairwise_results"
   ]
  },
  {
   "cell_type": "code",
   "execution_count": 68,
   "metadata": {},
   "outputs": [
    {
     "data": {
      "text/html": [
       "<div>\n",
       "<style scoped>\n",
       "    .dataframe tbody tr th:only-of-type {\n",
       "        vertical-align: middle;\n",
       "    }\n",
       "\n",
       "    .dataframe tbody tr th {\n",
       "        vertical-align: top;\n",
       "    }\n",
       "\n",
       "    .dataframe thead th {\n",
       "        text-align: right;\n",
       "    }\n",
       "</style>\n",
       "<table border=\"1\" class=\"dataframe\">\n",
       "  <thead>\n",
       "    <tr style=\"text-align: right;\">\n",
       "      <th></th>\n",
       "      <th>Contrast</th>\n",
       "      <th>A</th>\n",
       "      <th>B</th>\n",
       "      <th>Paired</th>\n",
       "      <th>Parametric</th>\n",
       "      <th>T</th>\n",
       "      <th>dof</th>\n",
       "      <th>alternative</th>\n",
       "      <th>p-unc</th>\n",
       "      <th>p-corr</th>\n",
       "      <th>p-adjust</th>\n",
       "      <th>BF10</th>\n",
       "      <th>hedges</th>\n",
       "    </tr>\n",
       "  </thead>\n",
       "  <tbody>\n",
       "    <tr>\n",
       "      <th>0</th>\n",
       "      <td>shipment_mode</td>\n",
       "      <td>Air</td>\n",
       "      <td>Air Charter</td>\n",
       "      <td>False</td>\n",
       "      <td>True</td>\n",
       "      <td>21.179625</td>\n",
       "      <td>600.685682</td>\n",
       "      <td>two-sided</td>\n",
       "      <td>8.748346e-75</td>\n",
       "      <td>2.624504e-74</td>\n",
       "      <td>bonf</td>\n",
       "      <td>5.809e+76</td>\n",
       "      <td>0.726592</td>\n",
       "    </tr>\n",
       "    <tr>\n",
       "      <th>1</th>\n",
       "      <td>shipment_mode</td>\n",
       "      <td>Air</td>\n",
       "      <td>Ocean</td>\n",
       "      <td>False</td>\n",
       "      <td>True</td>\n",
       "      <td>19.335760</td>\n",
       "      <td>986.979785</td>\n",
       "      <td>two-sided</td>\n",
       "      <td>6.934555e-71</td>\n",
       "      <td>2.080367e-70</td>\n",
       "      <td>bonf</td>\n",
       "      <td>1.129e+67</td>\n",
       "      <td>0.711119</td>\n",
       "    </tr>\n",
       "    <tr>\n",
       "      <th>2</th>\n",
       "      <td>shipment_mode</td>\n",
       "      <td>Air Charter</td>\n",
       "      <td>Ocean</td>\n",
       "      <td>False</td>\n",
       "      <td>True</td>\n",
       "      <td>-3.170654</td>\n",
       "      <td>35.615026</td>\n",
       "      <td>two-sided</td>\n",
       "      <td>3.123012e-03</td>\n",
       "      <td>9.369037e-03</td>\n",
       "      <td>bonf</td>\n",
       "      <td>15.277</td>\n",
       "      <td>-0.423775</td>\n",
       "    </tr>\n",
       "  </tbody>\n",
       "</table>\n",
       "</div>"
      ],
      "text/plain": [
       "        Contrast            A            B  Paired  Parametric          T  \\\n",
       "0  shipment_mode          Air  Air Charter   False        True  21.179625   \n",
       "1  shipment_mode          Air        Ocean   False        True  19.335760   \n",
       "2  shipment_mode  Air Charter        Ocean   False        True  -3.170654   \n",
       "\n",
       "          dof alternative         p-unc        p-corr p-adjust       BF10  \\\n",
       "0  600.685682   two-sided  8.748346e-75  2.624504e-74     bonf  5.809e+76   \n",
       "1  986.979785   two-sided  6.934555e-71  2.080367e-70     bonf  1.129e+67   \n",
       "2   35.615026   two-sided  3.123012e-03  9.369037e-03     bonf     15.277   \n",
       "\n",
       "     hedges  \n",
       "0  0.726592  \n",
       "1  0.711119  \n",
       "2 -0.423775  "
      ]
     },
     "execution_count": 68,
     "metadata": {},
     "output_type": "execute_result"
    }
   ],
   "source": [
    "# Modify the pairwise t-tests to use the Bonferroni p-value adjustment.\n",
    "\n",
    "pairwise_results = pingouin.pairwise_ttests(data=late_shipments,\n",
    "               dv = 'pack_price',\n",
    "               between = 'shipment_mode',\n",
    "               padjust='bonf') \n",
    "\n",
    "\n",
    "\n",
    "\n",
    "# Print pairwise_results\n",
    "pairwise_results"
   ]
  },
  {
   "cell_type": "markdown",
   "metadata": {},
   "source": [
    "Using the Bonferroni correction results and assuming a significance level of 0.1, for which pairs of shipment modes should you reject the null hypothesis that the pack prices are equal?\n",
    "\n",
    "\"Ocean\" and \"Air Charter\"; \"Ocean\" and \"Air\"; \"Air Charter\" and \"Air\"."
   ]
  }
 ],
 "metadata": {
  "kernelspec": {
   "display_name": "Python 3.9.7 ('base')",
   "language": "python",
   "name": "python3"
  },
  "language_info": {
   "codemirror_mode": {
    "name": "ipython",
    "version": 3
   },
   "file_extension": ".py",
   "mimetype": "text/x-python",
   "name": "python",
   "nbconvert_exporter": "python",
   "pygments_lexer": "ipython3",
   "version": "3.9.7"
  },
  "orig_nbformat": 4,
  "vscode": {
   "interpreter": {
    "hash": "96e9b31d04a7a521b8bd0e4c1f2a1c111922573478d52e4fa467dd25c9518df3"
   }
  }
 },
 "nbformat": 4,
 "nbformat_minor": 2
}

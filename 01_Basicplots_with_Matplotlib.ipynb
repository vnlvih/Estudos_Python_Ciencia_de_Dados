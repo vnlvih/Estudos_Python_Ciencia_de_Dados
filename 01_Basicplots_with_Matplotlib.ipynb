{
  "nbformat": 4,
  "nbformat_minor": 0,
  "metadata": {
    "colab": {
      "name": "01.Basicplots with Matplotlib.ipynb",
      "provenance": [],
      "collapsed_sections": [],
      "authorship_tag": "ABX9TyPM9DgzBpkxJ614dTDudLu0"
    },
    "kernelspec": {
      "name": "python3",
      "display_name": "Python 3"
    },
    "language_info": {
      "name": "python"
    }
  },
  "cells": [
    {
      "cell_type": "code",
      "metadata": {
        "colab": {
          "base_uri": "https://localhost:8080/",
          "height": 265
        },
        "id": "4PcQ51ttccfn",
        "outputId": "64d13237-58f6-411e-b7ef-6dfd0ae65919"
      },
      "source": [
        "import matplotlib.pyplot as plt\n",
        "\n",
        "year = [1950,1970,1990,2010]\n",
        "pop = [2.519,3.692,5.263,6.972]\n",
        "plt.plot(year,pop)\n",
        "plt.show()"
      ],
      "execution_count": null,
      "outputs": [
        {
          "output_type": "display_data",
          "data": {
            "image/png": "[encoded data removed]",
            "text/plain": [
              "<Figure size 432x288 with 1 Axes>"
            ]
          },
          "metadata": {
            "tags": [],
            "needs_background": "light"
          }
        }
      ]
    },
    {
      "cell_type": "code",
      "metadata": {
        "colab": {
          "base_uri": "https://localhost:8080/",
          "height": 265
        },
        "id": "ZLIJebTdc40Z",
        "outputId": "de4fbfd8-6ce8-4992-b1bc-dea361617988"
      },
      "source": [
        "\"\"\"when you're trying to assess if there's a correlation between two variables,\n",
        "for example, the scatter plot is the better choice\"\"\"\n",
        "plt.scatter(year,pop)\n",
        "plt.show()"
      ],
      "execution_count": null,
      "outputs": [
        {
          "output_type": "display_data",
          "data": {
            "image/png": "[encoded data removed]",
            "text/plain": [
              "<Figure size 432x288 with 1 Axes>"
            ]
          },
          "metadata": {
            "tags": [],
            "needs_background": "light"
          }
        }
      ]
    },
    {
      "cell_type": "code",
      "metadata": {
        "id": "NmP6T_LIdB1k",
        "colab": {
          "base_uri": "https://localhost:8080/",
          "height": 273
        },
        "outputId": "8664fe1f-b1f1-4294-fb76-1d6804b6506a"
      },
      "source": [
        "# Put the x-axis on a logarithmic scale\n",
        "plt.xscale(\"log\")"
      ],
      "execution_count": null,
      "outputs": [
        {
          "output_type": "display_data",
          "data": {
            "image/png": "[encoded data removed]",
            "text/plain": [
              "<Figure size 432x288 with 1 Axes>"
            ]
          },
          "metadata": {
            "tags": [],
            "needs_background": "light"
          }
        }
      ]
    },
    {
      "cell_type": "markdown",
      "metadata": {
        "id": "em8Hf5yzN3Ip"
      },
      "source": [
        "### **Histogram**\n",
        "- Get idea about distribution"
      ]
    },
    {
      "cell_type": "code",
      "metadata": {
        "id": "tVRcx1kdfeo9",
        "colab": {
          "base_uri": "https://localhost:8080/"
        },
        "outputId": "688ee665-8246-4d0d-fe58-9bac889e6698"
      },
      "source": [
        "help(plt.hist)"
      ],
      "execution_count": null,
      "outputs": [
        {
          "output_type": "stream",
          "text": [
            "Help on function hist in module matplotlib.pyplot:\n",
            "\n",
            "hist(x, bins=None, range=None, density=False, weights=None, cumulative=False, bottom=None, histtype='bar', align='mid', orientation='vertical', rwidth=None, log=False, color=None, label=None, stacked=False, *, data=None, **kwargs)\n",
            "    Plot a histogram.\n",
            "    \n",
            "    Compute and draw the histogram of *x*.  The return value is a tuple\n",
            "    (*n*, *bins*, *patches*) or ([*n0*, *n1*, ...], *bins*, [*patches0*,\n",
            "    *patches1*,...]) if the input contains multiple data.  See the\n",
            "    documentation of the *weights* parameter to draw a histogram of\n",
            "    already-binned data.\n",
            "    \n",
            "    Multiple data can be provided via *x* as a list of datasets\n",
            "    of potentially different length ([*x0*, *x1*, ...]), or as\n",
            "    a 2-D ndarray in which each column is a dataset.  Note that\n",
            "    the ndarray form is transposed relative to the list form.\n",
            "    \n",
            "    Masked arrays are not supported.\n",
            "    \n",
            "    The *bins*, *range*, *weights*, and *density* parameters behave as in\n",
            "    `numpy.histogram`.\n",
            "    \n",
            "    Parameters\n",
            "    ----------\n",
            "    x : (n,) array or sequence of (n,) arrays\n",
            "        Input values, this takes either a single array or a sequence of\n",
            "        arrays which are not required to be of the same length.\n",
            "    \n",
            "    bins : int or sequence or str, optional\n",
            "        If *bins* is an integer, it defines the number of equal-width bins\n",
            "        in the range.\n",
            "    \n",
            "        If *bins* is a sequence, it defines the bin edges, including the\n",
            "        left edge of the first bin and the right edge of the last bin;\n",
            "        in this case, bins may be unequally spaced.  All but the last\n",
            "        (righthand-most) bin is half-open.  In other words, if *bins* is::\n",
            "    \n",
            "            [1, 2, 3, 4]\n",
            "    \n",
            "        then the first bin is ``[1, 2)`` (including 1, but excluding 2) and\n",
            "        the second ``[2, 3)``.  The last bin, however, is ``[3, 4]``, which\n",
            "        *includes* 4.\n",
            "    \n",
            "        If *bins* is a string, it is one of the binning strategies\n",
            "        supported by `numpy.histogram_bin_edges`: 'auto', 'fd', 'doane',\n",
            "        'scott', 'stone', 'rice', 'sturges', or 'sqrt'.\n",
            "    \n",
            "        The default is :rc:`hist.bins`.\n",
            "    \n",
            "    range : tuple or None, optional\n",
            "        The lower and upper range of the bins. Lower and upper outliers\n",
            "        are ignored. If not provided, *range* is ``(x.min(), x.max())``.\n",
            "        Range has no effect if *bins* is a sequence.\n",
            "    \n",
            "        If *bins* is a sequence or *range* is specified, autoscaling\n",
            "        is based on the specified bin range instead of the\n",
            "        range of x.\n",
            "    \n",
            "        Default is ``None``\n",
            "    \n",
            "    density : bool, optional\n",
            "        If ``True``, the first element of the return tuple will\n",
            "        be the counts normalized to form a probability density, i.e.,\n",
            "        the area (or integral) under the histogram will sum to 1.\n",
            "        This is achieved by dividing the count by the number of\n",
            "        observations times the bin width and not dividing by the total\n",
            "        number of observations. If *stacked* is also ``True``, the sum of\n",
            "        the histograms is normalized to 1.\n",
            "    \n",
            "        Default is ``False``.\n",
            "    \n",
            "    weights : (n, ) array-like or None, optional\n",
            "        An array of weights, of the same shape as *x*.  Each value in *x*\n",
            "        only contributes its associated weight towards the bin count\n",
            "        (instead of 1).  If *normed* or *density* is ``True``,\n",
            "        the weights are normalized, so that the integral of the density\n",
            "        over the range remains 1.\n",
            "    \n",
            "        Default is ``None``.\n",
            "    \n",
            "        This parameter can be used to draw a histogram of data that has\n",
            "        already been binned, e.g. using `np.histogram` (by treating each\n",
            "        bin as a single point with a weight equal to its count) ::\n",
            "    \n",
            "            counts, bins = np.histogram(data)\n",
            "            plt.hist(bins[:-1], bins, weights=counts)\n",
            "    \n",
            "        (or you may alternatively use `~.bar()`).\n",
            "    \n",
            "    cumulative : bool or -1, optional\n",
            "        If ``True``, then a histogram is computed where each bin gives the\n",
            "        counts in that bin plus all bins for smaller values. The last bin\n",
            "        gives the total number of datapoints.\n",
            "    \n",
            "        If *density* is also ``True`` then the histogram is normalized such\n",
            "        that the last bin equals 1.\n",
            "    \n",
            "        If *cumulative* is a number less than 0 (e.g., -1), the direction\n",
            "        of accumulation is reversed.  In this case, if *density* is also\n",
            "        ``True``, then the histogram is normalized such that the first bin\n",
            "        equals 1.\n",
            "    \n",
            "    bottom : array-like, scalar, or None, default: None\n",
            "        Location of the bottom of each bin, ie. bins are drawn from\n",
            "        ``bottom`` to ``bottom + hist(x, bins)`` If a scalar, the bottom\n",
            "        of each bin is shifted by the same amount. If an array, each bin\n",
            "        is shifted independently and the length of bottom must match the\n",
            "        number of bins. If None, defaults to 0.\n",
            "    \n",
            "    histtype : {'bar', 'barstacked', 'step',  'stepfilled'}, optional\n",
            "        The type of histogram to draw.\n",
            "    \n",
            "        - 'bar' is a traditional bar-type histogram.  If multiple data\n",
            "          are given the bars are arranged side by side.\n",
            "        - 'barstacked' is a bar-type histogram where multiple\n",
            "          data are stacked on top of each other.\n",
            "        - 'step' generates a lineplot that is by default unfilled.\n",
            "        - 'stepfilled' generates a lineplot that is by default filled.\n",
            "    \n",
            "        Default is 'bar'\n",
            "    \n",
            "    align : {'left', 'mid', 'right'}, optional\n",
            "        Controls how the histogram is plotted.\n",
            "    \n",
            "        - 'left': bars are centered on the left bin edges.\n",
            "        - 'mid': bars are centered between the bin edges.\n",
            "        - 'right': bars are centered on the right bin edges.\n",
            "    \n",
            "        Default is 'mid'\n",
            "    \n",
            "    orientation : {'horizontal', 'vertical'}, optional\n",
            "        If 'horizontal', `~matplotlib.pyplot.barh` will be used for\n",
            "        bar-type histograms and the *bottom* kwarg will be the left edges.\n",
            "    \n",
            "    rwidth : scalar or None, optional\n",
            "        The relative width of the bars as a fraction of the bin width.  If\n",
            "        ``None``, automatically compute the width.\n",
            "    \n",
            "        Ignored if *histtype* is 'step' or 'stepfilled'.\n",
            "    \n",
            "        Default is ``None``\n",
            "    \n",
            "    log : bool, optional\n",
            "        If ``True``, the histogram axis will be set to a log scale. If\n",
            "        *log* is ``True`` and *x* is a 1D array, empty bins will be\n",
            "        filtered out and only the non-empty ``(n, bins, patches)``\n",
            "        will be returned.\n",
            "    \n",
            "        Default is ``False``\n",
            "    \n",
            "    color : color or array-like of colors or None, optional\n",
            "        Color or sequence of colors, one per dataset.  Default (``None``)\n",
            "        uses the standard line color sequence.\n",
            "    \n",
            "        Default is ``None``\n",
            "    \n",
            "    label : str or None, optional\n",
            "        String, or sequence of strings to match multiple datasets.  Bar\n",
            "        charts yield multiple patches per dataset, but only the first gets\n",
            "        the label, so that the legend command will work as expected.\n",
            "    \n",
            "        default is ``None``\n",
            "    \n",
            "    stacked : bool, optional\n",
            "        If ``True``, multiple data are stacked on top of each other If\n",
            "        ``False`` multiple data are arranged side by side if histtype is\n",
            "        'bar' or on top of each other if histtype is 'step'\n",
            "    \n",
            "        Default is ``False``\n",
            "    \n",
            "    Returns\n",
            "    -------\n",
            "    n : array or list of arrays\n",
            "        The values of the histogram bins. See *density* and *weights* for a\n",
            "        description of the possible semantics.  If input *x* is an array,\n",
            "        then this is an array of length *nbins*. If input is a sequence of\n",
            "        arrays ``[data1, data2, ...]``, then this is a list of arrays with\n",
            "        the values of the histograms for each of the arrays in the same\n",
            "        order.  The dtype of the array *n* (or of its element arrays) will\n",
            "        always be float even if no weighting or normalization is used.\n",
            "    \n",
            "    bins : array\n",
            "        The edges of the bins. Length nbins + 1 (nbins left edges and right\n",
            "        edge of last bin).  Always a single array even when multiple data\n",
            "        sets are passed in.\n",
            "    \n",
            "    patches : list or list of lists\n",
            "        Silent list of individual patches used to create the histogram\n",
            "        or list of such list if multiple input datasets.\n",
            "    \n",
            "    Other Parameters\n",
            "    ----------------\n",
            "    **kwargs : `~matplotlib.patches.Patch` properties\n",
            "    \n",
            "    See also\n",
            "    --------\n",
            "    hist2d : 2D histograms\n",
            "    \n",
            "    Notes\n",
            "    -----\n",
            "    \n",
            "    \n",
            "    .. note::\n",
            "        In addition to the above described arguments, this function can take a\n",
            "        **data** keyword argument. If such a **data** argument is given, the\n",
            "        following arguments are replaced by **data[<arg>]**:\n",
            "    \n",
            "        * All arguments with the following names: 'weights', 'x'.\n",
            "    \n",
            "        Objects passed as **data** must support item access (``data[<arg>]``) and\n",
            "        membership test (``<arg> in data``).\n",
            "\n"
          ],
          "name": "stdout"
        }
      ]
    },
    {
      "cell_type": "code",
      "metadata": {
        "colab": {
          "base_uri": "https://localhost:8080/",
          "height": 265
        },
        "id": "45Kdc8zTOP48",
        "outputId": "ade21600-3964-4450-e154-4794749b8299"
      },
      "source": [
        "values = [0,0.6,1.4,1.6,2.2,2.5,2.6,3.2,3.5,3.9,4.2,6]\n",
        "plt.hist(values, bins=3,\n",
        "         )\n",
        "plt.show()"
      ],
      "execution_count": null,
      "outputs": [
        {
          "output_type": "display_data",
          "data": {
            "image/png": "[encoded data removed]",
            "text/plain": [
              "<Figure size 432x288 with 1 Axes>"
            ]
          },
          "metadata": {
            "tags": [],
            "needs_background": "light"
          }
        }
      ]
    },
    {
      "cell_type": "markdown",
      "metadata": {
        "id": "qmGdvoMiPRuz"
      },
      "source": [
        "Too few bins will oversimplify reality and won't show you the details. Too many bins will overcomplicate reality and won't show the bigger picture."
      ]
    },
    {
      "cell_type": "code",
      "metadata": {
        "colab": {
          "base_uri": "https://localhost:8080/"
        },
        "id": "cdam8kLdOg_S",
        "outputId": "ffec62c4-6f67-4a43-88a1-3c454f045b55"
      },
      "source": [
        "help(plt.clf)"
      ],
      "execution_count": null,
      "outputs": [
        {
          "output_type": "stream",
          "text": [
            "Help on function clf in module matplotlib.pyplot:\n",
            "\n",
            "clf()\n",
            "    Clear the current figure.\n",
            "\n"
          ],
          "name": "stdout"
        }
      ]
    },
    {
      "cell_type": "markdown",
      "metadata": {
        "id": "39ucCebYS3SF"
      },
      "source": [
        "### **Customization**"
      ]
    },
    {
      "cell_type": "code",
      "metadata": {
        "colab": {
          "base_uri": "https://localhost:8080/",
          "height": 295
        },
        "id": "hRY-gtvkPg7D",
        "outputId": "e23de1bd-5fd8-4f21-d35f-34bff837dc23"
      },
      "source": [
        "year = [1950,1970,1990,2010,2020,2040,2060,2080,2100]\n",
        "pop = [2.519,3.692,5.263,6.972,7.241,7.864,8.864,9.864,10.237]\n",
        "\n",
        "#Add more data \n",
        "\n",
        "year = [1800,1850,1900] + year\n",
        "pop = [1.0,1.262,1.650] + pop\n",
        "\n",
        "plt.plot(year,pop)\n",
        "\n",
        "plt.xlabel(\"Year\")\n",
        "plt.ylabel(\"Population\")\n",
        "plt.title(\"World Population Projections\")\n",
        "plt.yticks([0, 2, 4, 6, 8, 10],\n",
        "           [\"0\", \"2B\", \"4B\", \"6B\", \"8B\", \"10B\"])\n",
        "\n",
        "\n",
        "plt.show()"
      ],
      "execution_count": null,
      "outputs": [
        {
          "output_type": "display_data",
          "data": {
            "image/png": "[encoded data removed]",
            "text/plain": [
              "<Figure size 432x288 with 1 Axes>"
            ]
          },
          "metadata": {
            "tags": [],
            "needs_background": "light"
          }
        }
      ]
    },
    {
      "cell_type": "code",
      "metadata": {
        "id": "nL2vD4j2T5rF"
      },
      "source": [
        "#plt.scatter(x = gdp_cap, y = life_exp, s = np.array(pop) * 2, c = col, alpha = .8)\n",
        "\n",
        "# Additional customizations\n",
        "#plt.text(1550, 71, 'India')\n",
        "#plt.text(5700, 80, 'China')\n",
        "#plt.grid(True)"
      ],
      "execution_count": null,
      "outputs": []
    }
  ]
}
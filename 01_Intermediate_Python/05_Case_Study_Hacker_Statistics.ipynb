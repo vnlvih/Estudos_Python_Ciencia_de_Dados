{
  "nbformat": 4,
  "nbformat_minor": 0,
  "metadata": {
    "colab": {
      "name": "05.Case Study Hacker Statistics.ipynb",
      "provenance": [],
      "mount_file_id": "1LtwPz6kuzbMmc5xdWMBnRG_s4_hewQ6D",
      "authorship_tag": "ABX9TyNmqRcoOwC0yWaHz/Ow4j1q"
    },
    "kernelspec": {
      "name": "python3",
      "display_name": "Python 3"
    },
    "language_info": {
      "name": "python"
    }
  },
  "cells": [
    {
      "cell_type": "markdown",
      "metadata": {
        "id": "YBxkpKh8tH8h"
      },
      "source": [
        "## **Random Numbers**"
      ]
    },
    {
      "cell_type": "markdown",
      "metadata": {
        "id": "qj0g3zTpywv4"
      },
      "source": [
        "- rand(): if you don't specify any arguments, it generates a random float between zero and one."
      ]
    },
    {
      "cell_type": "code",
      "metadata": {
        "colab": {
          "base_uri": "https://localhost:8080/"
        },
        "id": "WwUa1MXfsxlS",
        "outputId": "b2ed428a-1c1f-4b69-8058-a920eada29d9"
      },
      "source": [
        "import numpy as np\n",
        "\n",
        "np.random.rand() #Pseudo-random numbers"
      ],
      "execution_count": null,
      "outputs": [
        {
          "output_type": "execute_result",
          "data": {
            "text/plain": [
              "0.9134229967750229"
            ]
          },
          "metadata": {
            "tags": []
          },
          "execution_count": 1
        }
      ]
    },
    {
      "cell_type": "markdown",
      "metadata": {
        "id": "Qz95zAEJyk5Q"
      },
      "source": [
        "- seed(): sets the random seed, so that your results are reproducible between simulations. As an argument, it takes an integer of your choosing. If you call the function, no output will be generated.\n"
      ]
    },
    {
      "cell_type": "code",
      "metadata": {
        "colab": {
          "base_uri": "https://localhost:8080/"
        },
        "id": "AzDG_1YOtRsw",
        "outputId": "adccd1ca-5e5c-482f-beb2-53303ef29db1"
      },
      "source": [
        "np.random.seed(123) # Starting from a seed\n",
        "np.random.rand() "
      ],
      "execution_count": null,
      "outputs": [
        {
          "output_type": "execute_result",
          "data": {
            "text/plain": [
              "0.6964691855978616"
            ]
          },
          "metadata": {
            "tags": []
          },
          "execution_count": 2
        }
      ]
    },
    {
      "cell_type": "code",
      "metadata": {
        "colab": {
          "base_uri": "https://localhost:8080/"
        },
        "id": "FE_v2LuotZgw",
        "outputId": "7d15a000-aa5d-42db-f09c-ceac40403993"
      },
      "source": [
        "np.random.rand()"
      ],
      "execution_count": null,
      "outputs": [
        {
          "output_type": "execute_result",
          "data": {
            "text/plain": [
              "0.28613933495037946"
            ]
          },
          "metadata": {
            "tags": []
          },
          "execution_count": 4
        }
      ]
    },
    {
      "cell_type": "code",
      "metadata": {
        "colab": {
          "base_uri": "https://localhost:8080/"
        },
        "id": "miSxtl4Xtbe4",
        "outputId": "da68bbaf-1e99-4ac6-d303-933bbe65f9b2"
      },
      "source": [
        "np.random.seed(123) # Same seed: same random numbers!\n",
        "np.random.rand() "
      ],
      "execution_count": null,
      "outputs": [
        {
          "output_type": "execute_result",
          "data": {
            "text/plain": [
              "0.6964691855978616"
            ]
          },
          "metadata": {
            "tags": []
          },
          "execution_count": 5
        }
      ]
    },
    {
      "cell_type": "code",
      "metadata": {
        "colab": {
          "base_uri": "https://localhost:8080/"
        },
        "id": "Dj9pLHJKtjlg",
        "outputId": "6d579f41-58a3-4bed-db81-d7f37b7c39b9"
      },
      "source": [
        "np.random.rand()"
      ],
      "execution_count": null,
      "outputs": [
        {
          "output_type": "execute_result",
          "data": {
            "text/plain": [
              "0.28613933495037946"
            ]
          },
          "metadata": {
            "tags": []
          },
          "execution_count": 6
        }
      ]
    },
    {
      "cell_type": "markdown",
      "metadata": {
        "id": "R8fpzlD2tppz"
      },
      "source": [
        "### **Coin toss**"
      ]
    },
    {
      "cell_type": "code",
      "metadata": {
        "colab": {
          "base_uri": "https://localhost:8080/"
        },
        "id": "C3-McpWStl_f",
        "outputId": "64464021-9b3d-445b-8dd9-38cac8fad246"
      },
      "source": [
        "np.random.seed(123)\n",
        "coin  = np.random.randint(0,2) # Randomly generate 0 or 1\n",
        "print(coin)"
      ],
      "execution_count": null,
      "outputs": [
        {
          "output_type": "stream",
          "text": [
            "0\n"
          ],
          "name": "stdout"
        }
      ]
    },
    {
      "cell_type": "code",
      "metadata": {
        "colab": {
          "base_uri": "https://localhost:8080/"
        },
        "id": "DQDiBRzpt2ho",
        "outputId": "70bc89f4-3b38-492c-cdb7-87a2975587f4"
      },
      "source": [
        "np.random.seed(123)\n",
        "coin  = np.random.randint(0,2) # Randomly generate 0 or 1\n",
        "print(coin)\n",
        "if coin == 0:\n",
        "  print(\"heads\")\n",
        "else:\n",
        "  print(\"tails\")"
      ],
      "execution_count": null,
      "outputs": [
        {
          "output_type": "stream",
          "text": [
            "0\n",
            "heads\n"
          ],
          "name": "stdout"
        }
      ]
    },
    {
      "cell_type": "markdown",
      "metadata": {
        "id": "0tip5x7QuHYP"
      },
      "source": [
        "## **Random Walk**\n",
        "\n",
        "### **Heads or Tails**"
      ]
    },
    {
      "cell_type": "code",
      "metadata": {
        "colab": {
          "base_uri": "https://localhost:8080/"
        },
        "id": "iELwt2zFuE0o",
        "outputId": "cfb589b1-3f15-4d2d-f2bf-e2ca96237614"
      },
      "source": [
        "np.random.seed(123)\n",
        "outcomes = []\n",
        "for x in range(10):\n",
        "  coin = np.random.randint(0,2)\n",
        "  if coin == 0 :\n",
        "    outcomes.append(\"heads\")\n",
        "  else :\n",
        "    outcomes.append(\"tails\")\n",
        "print(outcomes)"
      ],
      "execution_count": null,
      "outputs": [
        {
          "output_type": "stream",
          "text": [
            "['heads', 'tails', 'heads', 'heads', 'heads', 'heads', 'heads', 'tails', 'tails', 'heads']\n"
          ],
          "name": "stdout"
        }
      ]
    },
    {
      "cell_type": "markdown",
      "metadata": {
        "id": "cPl5V2Anu8Cl"
      },
      "source": [
        "### **Heads or Tails: Random Walk**"
      ]
    },
    {
      "cell_type": "code",
      "metadata": {
        "colab": {
          "base_uri": "https://localhost:8080/"
        },
        "id": "ak41xABwuqRB",
        "outputId": "35546811-e599-4d50-d86c-b444a995fc55"
      },
      "source": [
        "np.random.seed(123)\n",
        "tails = [0]\n",
        "for x in range(10):\n",
        "  coin = np.random.randint(0,2)\n",
        "  tails.append(tails[x] + coin)\n",
        "print(tails)"
      ],
      "execution_count": null,
      "outputs": [
        {
          "output_type": "stream",
          "text": [
            "[0, 0, 1, 1, 1, 1, 1, 1, 2, 3, 3]\n"
          ],
          "name": "stdout"
        }
      ]
    },
    {
      "cell_type": "code",
      "metadata": {
        "colab": {
          "base_uri": "https://localhost:8080/"
        },
        "id": "CaJyeHFavOj6",
        "outputId": "99d626a3-8d9e-4ce3-e2e1-480d0f5ddee5"
      },
      "source": [
        "outcomes"
      ],
      "execution_count": null,
      "outputs": [
        {
          "output_type": "execute_result",
          "data": {
            "text/plain": [
              "['heads',\n",
              " 'tails',\n",
              " 'heads',\n",
              " 'heads',\n",
              " 'heads',\n",
              " 'heads',\n",
              " 'heads',\n",
              " 'tails',\n",
              " 'tails',\n",
              " 'heads']"
            ]
          },
          "metadata": {
            "tags": []
          },
          "execution_count": 11
        }
      ]
    },
    {
      "cell_type": "code",
      "metadata": {
        "colab": {
          "base_uri": "https://localhost:8080/"
        },
        "id": "bKmkWhKDvRV_",
        "outputId": "a19a8f20-3510-4fc3-cf56-d6f5074bda0c"
      },
      "source": [
        "tails"
      ],
      "execution_count": null,
      "outputs": [
        {
          "output_type": "execute_result",
          "data": {
            "text/plain": [
              "[0, 0, 1, 1, 1, 1, 1, 1, 2, 3, 3]"
            ]
          },
          "metadata": {
            "tags": []
          },
          "execution_count": 12
        }
      ]
    },
    {
      "cell_type": "markdown",
      "metadata": {
        "id": "mZ_2xWFgvV-y"
      },
      "source": [
        "## **Distribution**"
      ]
    },
    {
      "cell_type": "code",
      "metadata": {
        "colab": {
          "base_uri": "https://localhost:8080/"
        },
        "id": "St0UHfVQvTbI",
        "outputId": "22c29d61-40e9-41d6-aade-8aae1a5a1b53"
      },
      "source": [
        "np.random.seed(123)\n",
        "final_tails = []\n",
        "for x in range(100):\n",
        "  tails = [0]\n",
        "  for x in range(10):\n",
        "    coin = np.random.randint(0,2)\n",
        "    tails.append(tails[x] + coin)\n",
        "  final_tails.append(tails[-1])\n",
        "print(final_tails)"
      ],
      "execution_count": null,
      "outputs": [
        {
          "output_type": "stream",
          "text": [
            "[3, 6, 4, 5, 4, 5, 3, 5, 4, 6, 6, 8, 6, 4, 7, 5, 7, 4, 3, 3, 4, 5, 8, 5, 6, 5, 7, 6, 4, 5, 8, 5, 8, 4, 6, 6, 3, 4, 5, 4, 7, 8, 9, 4, 3, 4, 5, 6, 4, 2, 6, 6, 5, 7, 5, 4, 5, 5, 6, 7, 6, 6, 6, 3, 6, 3, 6, 5, 6, 5, 6, 4, 6, 6, 3, 4, 4, 2, 4, 5, 4, 6, 6, 6, 8, 4, 6, 5, 7, 4, 6, 5, 4, 6, 7, 3, 7, 4, 5, 7]\n"
          ],
          "name": "stdout"
        }
      ]
    },
    {
      "cell_type": "code",
      "metadata": {
        "colab": {
          "base_uri": "https://localhost:8080/",
          "height": 265
        },
        "id": "3h1yxhZ8v6xn",
        "outputId": "d08c35bb-e8c6-48b2-975d-250ba1743030"
      },
      "source": [
        "import matplotlib.pyplot as plt\n",
        "np.random.seed(123)\n",
        "final_tails = []\n",
        "for x in range(10000):\n",
        "  tails = [0]\n",
        "  for x in range(10):\n",
        "    coin = np.random.randint(0,2)\n",
        "    tails.append(tails[x] + coin)\n",
        "  final_tails.append(tails[-1])\n",
        "plt.hist(final_tails, bins= 10)\n",
        "plt.show()"
      ],
      "execution_count": null,
      "outputs": [
        {
          "output_type": "display_data",
          "data": {
            "image/png": "[encoded data removed]",
            "text/plain": [
              "<Figure size 432x288 with 1 Axes>"
            ]
          },
          "metadata": {
            "tags": [],
            "needs_background": "light"
          }
        }
      ]
    },
    {
      "cell_type": "code",
      "metadata": {
        "colab": {
          "base_uri": "https://localhost:8080/"
        },
        "id": "k-0nAD7OwExY",
        "outputId": "6b97175f-b19c-4743-a17d-f388b6acc3ae"
      },
      "source": [
        "help(sns.barplot)"
      ],
      "execution_count": null,
      "outputs": [
        {
          "output_type": "stream",
          "text": [
            "Help on function barplot in module seaborn.categorical:\n",
            "\n",
            "barplot(*, x=None, y=None, hue=None, data=None, order=None, hue_order=None, estimator=<function mean at 0x7f5a396b1c20>, ci=95, n_boot=1000, units=None, seed=None, orient=None, color=None, palette=None, saturation=0.75, errcolor='.26', errwidth=None, capsize=None, dodge=True, ax=None, **kwargs)\n",
            "    Show point estimates and confidence intervals as rectangular bars.\n",
            "    \n",
            "    A bar plot represents an estimate of central tendency for a numeric\n",
            "    variable with the height of each rectangle and provides some indication of\n",
            "    the uncertainty around that estimate using error bars. Bar plots include 0\n",
            "    in the quantitative axis range, and they are a good choice when 0 is a\n",
            "    meaningful value for the quantitative variable, and you want to make\n",
            "    comparisons against it.\n",
            "    \n",
            "    For datasets where 0 is not a meaningful value, a point plot will allow you\n",
            "    to focus on differences between levels of one or more categorical\n",
            "    variables.\n",
            "    \n",
            "    It is also important to keep in mind that a bar plot shows only the mean\n",
            "    (or other estimator) value, but in many cases it may be more informative to\n",
            "    show the distribution of values at each level of the categorical variables.\n",
            "    In that case, other approaches such as a box or violin plot may be more\n",
            "    appropriate.\n",
            "    \n",
            "    \n",
            "    Input data can be passed in a variety of formats, including:\n",
            "    \n",
            "    - Vectors of data represented as lists, numpy arrays, or pandas Series\n",
            "      objects passed directly to the ``x``, ``y``, and/or ``hue`` parameters.\n",
            "    - A \"long-form\" DataFrame, in which case the ``x``, ``y``, and ``hue``\n",
            "      variables will determine how the data are plotted.\n",
            "    - A \"wide-form\" DataFrame, such that each numeric column will be plotted.\n",
            "    - An array or list of vectors.\n",
            "    \n",
            "    In most cases, it is possible to use numpy or Python objects, but pandas\n",
            "    objects are preferable because the associated names will be used to\n",
            "    annotate the axes. Additionally, you can use Categorical types for the\n",
            "    grouping variables to control the order of plot elements.    \n",
            "    \n",
            "    This function always treats one of the variables as categorical and\n",
            "    draws data at ordinal positions (0, 1, ... n) on the relevant axis, even\n",
            "    when the data has a numeric or date type.\n",
            "    \n",
            "    See the :ref:`tutorial <categorical_tutorial>` for more information.    \n",
            "    \n",
            "    Parameters\n",
            "    ----------\n",
            "    x, y, hue : names of variables in ``data`` or vector data, optional\n",
            "        Inputs for plotting long-form data. See examples for interpretation.        \n",
            "    data : DataFrame, array, or list of arrays, optional\n",
            "        Dataset for plotting. If ``x`` and ``y`` are absent, this is\n",
            "        interpreted as wide-form. Otherwise it is expected to be long-form.    \n",
            "    order, hue_order : lists of strings, optional\n",
            "        Order to plot the categorical levels in, otherwise the levels are\n",
            "        inferred from the data objects.        \n",
            "    estimator : callable that maps vector -> scalar, optional\n",
            "        Statistical function to estimate within each categorical bin.\n",
            "    ci : float or \"sd\" or None, optional\n",
            "        Size of confidence intervals to draw around estimated values.  If\n",
            "        \"sd\", skip bootstrapping and draw the standard deviation of the\n",
            "        observations. If ``None``, no bootstrapping will be performed, and\n",
            "        error bars will not be drawn.\n",
            "    n_boot : int, optional\n",
            "        Number of bootstrap iterations to use when computing confidence\n",
            "        intervals.\n",
            "    units : name of variable in ``data`` or vector data, optional\n",
            "        Identifier of sampling units, which will be used to perform a\n",
            "        multilevel bootstrap and account for repeated measures design.\n",
            "    seed : int, numpy.random.Generator, or numpy.random.RandomState, optional\n",
            "        Seed or random number generator for reproducible bootstrapping.    \n",
            "    orient : \"v\" | \"h\", optional\n",
            "        Orientation of the plot (vertical or horizontal). This is usually\n",
            "        inferred based on the type of the input variables, but it can be used\n",
            "        to resolve ambiguitiy when both `x` and `y` are numeric or when\n",
            "        plotting wide-form data.    \n",
            "    color : matplotlib color, optional\n",
            "        Color for all of the elements, or seed for a gradient palette.    \n",
            "    palette : palette name, list, or dict\n",
            "        Colors to use for the different levels of the ``hue`` variable. Should\n",
            "        be something that can be interpreted by :func:`color_palette`, or a\n",
            "        dictionary mapping hue levels to matplotlib colors.    \n",
            "    saturation : float, optional\n",
            "        Proportion of the original saturation to draw colors at. Large patches\n",
            "        often look better with slightly desaturated colors, but set this to\n",
            "        ``1`` if you want the plot colors to perfectly match the input color\n",
            "        spec.    \n",
            "    errcolor : matplotlib color\n",
            "        Color for the lines that represent the confidence interval.\n",
            "    errwidth : float, optional\n",
            "        Thickness of error bar lines (and caps).         \n",
            "    capsize : float, optional\n",
            "        Width of the \"caps\" on error bars.\n",
            "    \n",
            "    dodge : bool, optional\n",
            "        When hue nesting is used, whether elements should be shifted along the\n",
            "        categorical axis.    \n",
            "    ax : matplotlib Axes, optional\n",
            "        Axes object to draw the plot onto, otherwise uses the current Axes.    \n",
            "    kwargs : key, value mappings\n",
            "        Other keyword arguments are passed through to\n",
            "        :meth:`matplotlib.axes.Axes.bar`.\n",
            "    \n",
            "    Returns\n",
            "    -------\n",
            "    ax : matplotlib Axes\n",
            "        Returns the Axes object with the plot drawn onto it.    \n",
            "    \n",
            "    See Also\n",
            "    --------\n",
            "    countplot : Show the counts of observations in each categorical bin.    \n",
            "    pointplot : Show point estimates and confidence intervals using scatterplot\n",
            "                glyphs.    \n",
            "    catplot : Combine a categorical plot with a :class:`FacetGrid`.    \n",
            "    \n",
            "    Examples\n",
            "    --------\n",
            "    \n",
            "    Draw a set of vertical bar plots grouped by a categorical variable:\n",
            "    \n",
            "    .. plot::\n",
            "        :context: close-figs\n",
            "    \n",
            "        >>> import seaborn as sns\n",
            "        >>> sns.set_theme(style=\"whitegrid\")\n",
            "        >>> tips = sns.load_dataset(\"tips\")\n",
            "        >>> ax = sns.barplot(x=\"day\", y=\"total_bill\", data=tips)\n",
            "    \n",
            "    Draw a set of vertical bars with nested grouping by a two variables:\n",
            "    \n",
            "    .. plot::\n",
            "        :context: close-figs\n",
            "    \n",
            "        >>> ax = sns.barplot(x=\"day\", y=\"total_bill\", hue=\"sex\", data=tips)\n",
            "    \n",
            "    Draw a set of horizontal bars:\n",
            "    \n",
            "    .. plot::\n",
            "        :context: close-figs\n",
            "    \n",
            "        >>> ax = sns.barplot(x=\"tip\", y=\"day\", data=tips)\n",
            "    \n",
            "    Control bar order by passing an explicit order:\n",
            "    \n",
            "    .. plot::\n",
            "        :context: close-figs\n",
            "    \n",
            "        >>> ax = sns.barplot(x=\"time\", y=\"tip\", data=tips,\n",
            "        ...                  order=[\"Dinner\", \"Lunch\"])\n",
            "    \n",
            "    Use median as the estimate of central tendency:\n",
            "    \n",
            "    .. plot::\n",
            "        :context: close-figs\n",
            "    \n",
            "        >>> from numpy import median\n",
            "        >>> ax = sns.barplot(x=\"day\", y=\"tip\", data=tips, estimator=median)\n",
            "    \n",
            "    Show the standard error of the mean with the error bars:\n",
            "    \n",
            "    .. plot::\n",
            "        :context: close-figs\n",
            "    \n",
            "        >>> ax = sns.barplot(x=\"day\", y=\"tip\", data=tips, ci=68)\n",
            "    \n",
            "    Show standard deviation of observations instead of a confidence interval:\n",
            "    \n",
            "    .. plot::\n",
            "        :context: close-figs\n",
            "    \n",
            "        >>> ax = sns.barplot(x=\"day\", y=\"tip\", data=tips, ci=\"sd\")\n",
            "    \n",
            "    Add \"caps\" to the error bars:\n",
            "    \n",
            "    .. plot::\n",
            "        :context: close-figs\n",
            "    \n",
            "        >>> ax = sns.barplot(x=\"day\", y=\"tip\", data=tips, capsize=.2)\n",
            "    \n",
            "    Use a different color palette for the bars:\n",
            "    \n",
            "    .. plot::\n",
            "        :context: close-figs\n",
            "    \n",
            "        >>> ax = sns.barplot(x=\"size\", y=\"total_bill\", data=tips,\n",
            "        ...                  palette=\"Blues_d\")\n",
            "    \n",
            "    Use ``hue`` without changing bar position or width:\n",
            "    \n",
            "    .. plot::\n",
            "        :context: close-figs\n",
            "    \n",
            "        >>> tips[\"weekend\"] = tips[\"day\"].isin([\"Sat\", \"Sun\"])\n",
            "        >>> ax = sns.barplot(x=\"day\", y=\"total_bill\", hue=\"weekend\",\n",
            "        ...                  data=tips, dodge=False)\n",
            "    \n",
            "    Plot all bars in a single color:\n",
            "    \n",
            "    .. plot::\n",
            "        :context: close-figs\n",
            "    \n",
            "        >>> ax = sns.barplot(x=\"size\", y=\"total_bill\", data=tips,\n",
            "        ...                  color=\"salmon\", saturation=.5)\n",
            "    \n",
            "    Use :meth:`matplotlib.axes.Axes.bar` parameters to control the style.\n",
            "    \n",
            "    .. plot::\n",
            "        :context: close-figs\n",
            "    \n",
            "        >>> ax = sns.barplot(x=\"day\", y=\"total_bill\", data=tips,\n",
            "        ...                  linewidth=2.5, facecolor=(1, 1, 1, 0),\n",
            "        ...                  errcolor=\".2\", edgecolor=\".2\")\n",
            "    \n",
            "    Use :func:`catplot` to combine a :func:`barplot` and a :class:`FacetGrid`.\n",
            "    This allows grouping within additional categorical variables. Using\n",
            "    :func:`catplot` is safer than using :class:`FacetGrid` directly, as it\n",
            "    ensures synchronization of variable order across facets:\n",
            "    \n",
            "    .. plot::\n",
            "        :context: close-figs\n",
            "    \n",
            "        >>> g = sns.catplot(x=\"sex\", y=\"total_bill\",\n",
            "        ...                 hue=\"smoker\", col=\"time\",\n",
            "        ...                 data=tips, kind=\"bar\",\n",
            "        ...                 height=4, aspect=.7);\n",
            "\n"
          ],
          "name": "stdout"
        }
      ]
    },
    {
      "cell_type": "code",
      "metadata": {
        "id": "ojC-27ZMM9_6"
      },
      "source": [
        "import seaborn as sns"
      ],
      "execution_count": null,
      "outputs": []
    },
    {
      "cell_type": "code",
      "metadata": {
        "id": "rVGiAgtCM_Ov"
      },
      "source": [
        ""
      ],
      "execution_count": null,
      "outputs": []
    }
  ]
}
